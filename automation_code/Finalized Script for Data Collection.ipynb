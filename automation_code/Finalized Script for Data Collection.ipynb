{
 "cells": [
  {
   "cell_type": "markdown",
   "id": "7717b969",
   "metadata": {},
   "source": [
    "# CODE FOR AUTOMATION OF DATA COLLECTION FOR BENCH TEST AND DETECTOR\n",
    "## By Damien Bowen, LBNL"
   ]
  },
  {
   "cell_type": "markdown",
   "id": "1e86e02f",
   "metadata": {},
   "source": [
    "### Initialization (packages, connecting to instrumentation)"
   ]
  },
  {
   "cell_type": "code",
   "execution_count": 1,
   "id": "ea2830d1",
   "metadata": {},
   "outputs": [],
   "source": [
    "## packages\n",
    "import shutil\n",
    "import pyvisa\n",
    "import csv\n",
    "import numpy as np\n",
    "import matplotlib.pyplot as plt\n",
    "import pandas as pd\n",
    "import time\n",
    "import struct \n",
    "import os\n",
    "from datetime import datetime\n",
    "import h5py"
   ]
  },
  {
   "cell_type": "markdown",
   "id": "baa004f4",
   "metadata": {},
   "source": [
    "##### Electronics have had their ip address configured as given below"
   ]
  },
  {
   "cell_type": "code",
   "execution_count": 2,
   "id": "48bae0b1",
   "metadata": {},
   "outputs": [],
   "source": [
    "## initializing resource manager for the electronics\n",
    "rm = pyvisa.ResourceManager('@py')"
   ]
  },
  {
   "cell_type": "code",
   "execution_count": 15,
   "id": "7d7ae737",
   "metadata": {},
   "outputs": [
    {
     "name": "stdout",
     "output_type": "stream",
     "text": [
      "TEKTRONIX,MSO44B,SGVJ010162,CF:91.1CT FV:2.6.38.1348\n",
      "\n"
     ]
    }
   ],
   "source": [
    "## connecting to the oscilloscope (essential for both detector tests and bench tests)\n",
    "scope = rm.open_resource('TCPIP0::169.254.7.109')\n",
    "print(scope.query('*IDN?')) ## prints make and model of oscilloscope to verify connection"
   ]
  },
  {
   "cell_type": "code",
   "execution_count": null,
   "id": "2092f132",
   "metadata": {},
   "outputs": [],
   "source": [
    "## connecting to pulse generator\n",
    "pulser = rm.open_resource('TCPIP0::169.254.7.110')\n",
    "print(pulser.query('*IDN?'))"
   ]
  },
  {
   "cell_type": "code",
   "execution_count": null,
   "id": "2b019e7c",
   "metadata": {},
   "outputs": [],
   "source": [
    "## connecting to power supply; finnicky compared to other devices, needs extra work\n",
    "ip_address = '169.254.7.111'\n",
    "resource_string = f'TCPIP0::{ip_address}::5025::SOCKET'\n",
    "supply = rm.open_resource(resource_string)\n",
    "print(supply.query('*IDN?'))"
   ]
  },
  {
   "cell_type": "markdown",
   "id": "80736861",
   "metadata": {},
   "source": [
    "# Definition of functions, categorized as best as possible below"
   ]
  },
  {
   "cell_type": "markdown",
   "id": "0843ceda",
   "metadata": {},
   "source": [
    "### For interacting with the electronics:"
   ]
  },
  {
   "cell_type": "code",
   "execution_count": 16,
   "id": "fcccb310",
   "metadata": {},
   "outputs": [],
   "source": [
    "## configures power supply to desired format\n",
    "def configure_power_supply():\n",
    "    channel = 3\n",
    "    voltage = 2.8\n",
    "    current_limit = 50\n",
    "    \n",
    "    # Select the channel\n",
    "    supply.write(f'INST:NSEL {channel}')\n",
    "    \n",
    "    # Set voltage\n",
    "    supply.write(f'VOLT {voltage}')\n",
    "    \n",
    "    # Set current limit\n",
    "    supply.write(f'CURR {current_limit}')\n",
    "    \n",
    "    # Turn on the output\n",
    "    supply.write('OUTP ON')\n",
    "    \n",
    "    # Read back current\n",
    "    current = float(supply.query('MEAS:CURR?'))\n",
    "    \n",
    "    # Check if the current is within the desired range\n",
    "    if .005 <= current <= .010:\n",
    "        print(f'Current is within range: {current} A')\n",
    "    else:\n",
    "        print(f'Current is out of range: {current} A')\n"
   ]
  },
  {
   "cell_type": "code",
   "execution_count": 17,
   "id": "16928cd8",
   "metadata": {},
   "outputs": [],
   "source": [
    "## changes voltage of pulser\n",
    "def pulser_v(voltage): ## parameter in units of volts\n",
    "    return pulser.write(f'C1:BSWV AMP, {voltage}') "
   ]
  },
  {
   "cell_type": "code",
   "execution_count": 18,
   "id": "bdcc474c",
   "metadata": {},
   "outputs": [],
   "source": [
    "## changes vertical (voltage) scaling of oscilloscope, needed for optimizing resolution at diff voltages for bench test\n",
    "def set_vert_scale(channel, scale):\n",
    "    scope.write(f':CH{channel}:SCALE {scale}')"
   ]
  },
  {
   "cell_type": "code",
   "execution_count": 19,
   "id": "0b8dc540",
   "metadata": {},
   "outputs": [],
   "source": [
    "## changes time scale of oscilloscope\n",
    "def set_horizontal_scale(scale):\n",
    "    scope.write(f':HOR:MAIN:SCALE {scale}')"
   ]
  },
  {
   "cell_type": "code",
   "execution_count": 20,
   "id": "fe582449",
   "metadata": {},
   "outputs": [],
   "source": [
    "## gets measurement from any of the measurement channels on oscilloscope\n",
    "def get_measurement(measurement_channel):\n",
    "    # Query the value of the specified measurement channel\n",
    "    measurement = scope.query(f':MEASU:MEAS{measurement_channel}:VALue?')\n",
    "    return float(measurement)"
   ]
  },
  {
   "cell_type": "code",
   "execution_count": 21,
   "id": "0725b3a6",
   "metadata": {},
   "outputs": [],
   "source": [
    "## make sure to adjust which channel you want to use for the trigger\n",
    "def set_trigger(trigger_level):\n",
    "    # Construct the SCPI command to set the trigger source\n",
    "    scope.write('TRIGger:A:EDGE:SOURce CH4') ## makes sure the trigger is set to channel 4\n",
    "        \n",
    "    # Construct the SCPI command to set the trigger level\n",
    "    scope.write(f'TRIGger:A:LEVel:CH4 {trigger_level}') ## set trigger as low as possible "
   ]
  },
  {
   "cell_type": "code",
   "execution_count": 22,
   "id": "82c47a30",
   "metadata": {},
   "outputs": [],
   "source": [
    "# getting waveform data from oscilloscope for a given channel\n",
    "def get_waveform_data(channel):\n",
    "    # Select the channel\n",
    "    scope.write(f'DATA:SOURCE CH{channel}')\n",
    "    scope.write(f'DATA:WIDTH 2')\n",
    "    \n",
    "    raw_data = scope.query_binary_values('CURVE?', datatype = 'b', container=np.array)\n",
    "\n",
    "# Horizontal scale settings to reconstruct time data\n",
    "    x_increment = float(scope.query('WFMPRE:XINCR?'))\n",
    "    x_zero = float(scope.query('WFMPRE:XZERO?'))\n",
    "    x_offset = float(scope.query('WFMPRE:PT_OFF?'))\n",
    "    # print(x_offset, x_zero)\n",
    "\n",
    "# Get vertical scale settings to reconstruct voltage data\n",
    "    y_multiplier = float(scope.query('WFMPRE:YMULT?'))\n",
    "    y_offset = float(scope.query('WFMPRE:YOFF?'))\n",
    "    y_zero = float(scope.query('WFMPRE:YZERO?'))\n",
    "\n",
    "# Convert raw data to numpy array\n",
    "    data = np.frombuffer(raw_data, dtype=np.int16)  # Adjust dtype if needed\n",
    "\n",
    "# Reconstruct time and voltage data\n",
    "    time_data = x_zero + (np.arange(len(data)) - x_offset) * x_increment\n",
    "    voltage_data = y_zero + (data - y_offset)*y_multiplier\n",
    "\n",
    "    return time_data, voltage_data"
   ]
  },
  {
   "cell_type": "code",
   "execution_count": 23,
   "id": "9d0018c8",
   "metadata": {},
   "outputs": [],
   "source": [
    "## corrects the vertical scaling of the oscilloscope based on the peak voltage. \n",
    "## this function is used in combination with get_measurement() to get the peak voltage through the device \n",
    "## being tested.\n",
    "def correct_y_scaling(wave_amplitude):\n",
    "\n",
    "    ## takes in amplitude of the ASIC (a float) and adjusts y divisions of oscilloscope as required\n",
    "    if 1.6 < wave_amplitude <= 4:\n",
    "        set_trigger(0.1)\n",
    "        set_vert_scale(1, 0.5)\n",
    "        set_vert_scale(4, 0.5)\n",
    "    elif 0.8 <= wave_amplitude <= 1.6:\n",
    "        set_vert_scale(1, 0.2)  # 200 mV/div for both ASIC readout, pulser\n",
    "        set_vert_scale(4, 0.2)\n",
    "    elif 0.4 <= wave_amplitude < 0.8:\n",
    "        set_vert_scale(1, 0.1)  # 100 mV/div for ASIC, still 200 for pulser\n",
    "    elif 0.18 <= wave_amplitude < 0.4:\n",
    "        set_trigger(0.05)\n",
    "        set_vert_scale(1, 0.05)  # 50 mV/div on ASIC readout\n",
    "        set_vert_scale(4, 0.1)   # 100 mV/div for pulser\n",
    "    elif 0.08 <= wave_amplitude < 0.18:\n",
    "        set_trigger(0.05)\n",
    "        set_vert_scale(1, 0.02)  # 20 mV/div\n",
    "        set_vert_scale(4, 0.05)  # 50 mV/div for pulser\n",
    "    elif 0.04 <= wave_amplitude < 0.08:\n",
    "        set_trigger(0.02)\n",
    "        set_vert_scale(1, 0.01)  # 10 mV/div\n",
    "        set_vert_scale(4, 0.02)  # 20 mV/div for pulser\n",
    "    elif 0.015 <= wave_amplitude < 0.04:\n",
    "        set_trigger(0.01)\n",
    "        set_vert_scale(1, 0.005)  # 5 mV / div\n",
    "        set_vert_scale(4, 0.01)   # 10 mV/div for pulser\n",
    "    elif .008 <= wave_amplitude < 0.015:\n",
    "        set_trigger(0.004)\n",
    "        set_vert_scale(1, 0.002)\n",
    "    elif 0.0 <= wave_amplitude < .008:\n",
    "        set_vert_scale(1, 0.001)\n"
   ]
  },
  {
   "cell_type": "markdown",
   "id": "443d0515",
   "metadata": {},
   "source": [
    "# Saving data to different file types. Currently, .csv and .hdf5 are available (.hdf5 is significantly faster)"
   ]
  },
  {
   "cell_type": "markdown",
   "id": "8edbddd5",
   "metadata": {},
   "source": [
    "##### code for creation of folders:"
   ]
  },
  {
   "cell_type": "code",
   "execution_count": 24,
   "id": "db41e9a4",
   "metadata": {},
   "outputs": [],
   "source": [
    "## creates folder for .csv files to be inserted into. The folder is automatically created in this directory\n",
    "## in the folder I have called ./Data.\n",
    "## GIVE THE FOLDER A NAME IN THE ALGORITHMS\n",
    "def create_folder(base_dir='./Data', name = None, run_type = None, n_runs = None, subfolder = None):\n",
    "    # If a subfolder is specified, use it directly without generating a new folder name\n",
    "    if subfolder:\n",
    "        folder_path = os.path.join(base_dir, subfolder)\n",
    "    else:\n",
    "        # Generate a folder name if 'name' is not provided and 'subfolder' is not specified\n",
    "        if name is None:\n",
    "            name = f'ASIC_data_{int(time.time())}'\n",
    "        else:\n",
    "            current_date = datetime.datetime.now().strftime('%Y%m%d')\n",
    "            name = f'{name}_{current_date}'\n",
    "        folder_path = os.path.join(base_dir, name)\n",
    "    \n",
    "    # Create the folder (or subfolder) path\n",
    "    os.makedirs(folder_path, exist_ok=True)\n",
    "    # print(f'Folder created: {folder_path}')\n",
    "    \n",
    "    ## create a .csv file with important metadata for main data collection folders\n",
    "    if not subfolder:\n",
    "        info_filename = 'run_info.csv'\n",
    "        info_filepath = os.path.join(folder_path, info_filename)\n",
    "        current_date = datetime.datetime.now().strftime('%Y-%m-%d')\n",
    "        current_time = datetime.datetime.now().strftime('%H:%M:%S')\n",
    "\n",
    "        with open(info_filepath, 'w', newline='') as csvfile:\n",
    "            csvwriter = csv.writer(csvfile)\n",
    "            csvwriter.writerow(['Oscilloscope: TEKTRONIX MSO44B', 'Pulser: TELEDYNE T3AFG500'])\n",
    "            csvwriter.writerow([f'Date: {current_date}', f'Time: {current_time}'])\n",
    "            csvwriter.writerow(['Time units: microseconds', 'Voltage units: Volts'])\n",
    "\n",
    "\n",
    "            if run_type:\n",
    "                csvwriter.writerow([f'Run type: {run_type}'])\n",
    "\n",
    "            if n_runs:\n",
    "                csvwriter.writerow([f'# of iterations at each voltage: {n_runs}'])\n",
    "    \n",
    "    return folder_path"
   ]
  },
  {
   "cell_type": "markdown",
   "id": "d26f8a03",
   "metadata": {},
   "source": [
    "### .csv code:"
   ]
  },
  {
   "cell_type": "code",
   "execution_count": 25,
   "id": "478b5679",
   "metadata": {},
   "outputs": [],
   "source": [
    "## saves ASIC time data, voltage data, pulser voltage data to .csv file as well as other parameters\n",
    "def save_to_csv(path, time_data, device_voltage_data, pulser_voltage_data, pulser_voltage, asic_voltage, counter = None):\n",
    "    \n",
    "    filename = f'ASIC_A{asic_voltage:.3f}V_P{pulser_voltage:.3f}V_{counter:03d}.csv'.replace('.','p',2)  \n",
    "    fullpath = os.path.join(path, filename)\n",
    "    \n",
    "    with open(fullpath, 'w', newline='') as csvfile:\n",
    "        csvwriter = csv.writer(csvfile)\n",
    "        \n",
    "        csvwriter.writerow([f'Pulser Voltage: {pulser_voltage:.3f}V', f'ASIC Peak Voltage: {asic_voltage:.3f}V' ])\n",
    "        csvwriter.writerow(['Time (s)', 'ASIC Voltage (V)','Pulser Voltage (V)'])  # Header row\n",
    "        for t, v, q in zip(time_data, device_voltage_data, pulser_voltage_data):\n",
    "            csvwriter.writerow([t, v, q])\n",
    "   "
   ]
  },
  {
   "cell_type": "code",
   "execution_count": 26,
   "id": "41ef5653",
   "metadata": {},
   "outputs": [],
   "source": [
    "## developed for usage with the detector specifically. I am keeping it separate for now\n",
    "## because I am not sure it will work with the bench test algorithm.\n",
    "\n",
    "def save_to_csv_detector(path, time_data, device_voltage_data, pulser_voltage_data = None, pulser_voltage=None, asic_voltage=None, counter=None):\n",
    "    # Build the filename based on available data\n",
    "    filename_parts = []\n",
    "    \n",
    "    filename_parts.append(\"ASIC_data\")\n",
    "    \n",
    "    # Only append ASIC and Pulser information if they are not None\n",
    "    if asic_voltage is not None:\n",
    "        filename_parts.append(f\"ASIC_{asic_voltage:.3f}V\")\n",
    "        \n",
    "    if pulser_voltage is not None:\n",
    "        filename_parts.append(f\"P{pulser_voltage:.3f}V\")\n",
    "    \n",
    "    \n",
    "    if counter is not None:\n",
    "        filename_parts.append(f\"{counter:03d}\")\n",
    "    \n",
    "    # If no voltages are provided, the filename will only contain date, time, and counter\n",
    "    if not filename_parts:\n",
    "        filename = f\"ASIC_data_{timestamp}_{counter:03d}.csv\" if counter is not None else f\"ASIC_data_{timestamp}.csv\"\n",
    "    else:\n",
    "        # Create the filename from parts and replace '.' with 'p' for formatting\n",
    "        filename = '_'.join(filename_parts).replace('.', 'p', 2) + \".csv\"\n",
    "    \n",
    "    # Create the full file path\n",
    "    fullpath = os.path.join(path, filename)\n",
    "    \n",
    "    # Open the CSV file for writing\n",
    "    with open(fullpath, 'w', newline='') as csvfile:\n",
    "        csvwriter = csv.writer(csvfile)\n",
    "\n",
    "        # Write header based on available voltage data\n",
    "        pulser_info = f'Pulser Voltage: {pulser_voltage:.3f}V' if pulser_voltage is not None else 'Pulser Voltage: None'\n",
    "        asic_info = f'ASIC Peak Voltage: {asic_voltage:.3f}V' if asic_voltage is not None else 'ASIC Peak Voltage: None'\n",
    "        \n",
    "        # First row: Summary info\n",
    "        csvwriter.writerow([pulser_info, asic_info])\n",
    "        \n",
    "        # Second row: Column headers\n",
    "        csvwriter.writerow(['Time (s)', 'ASIC Voltage (V)', 'Pulser Voltage (V)'])\n",
    "        \n",
    "        # Write data rows; use placeholder for missing pulser voltage data\n",
    "        if pulser_voltage_data is None:\n",
    "            # Fill missing pulser voltage data with 'None'\n",
    "            for t, v in zip(time_data, device_voltage_data):\n",
    "                csvwriter.writerow([t, v, 'None'])\n",
    "        else:\n",
    "            # Normal case with pulser voltage data\n",
    "            for t, v, q in zip(time_data, device_voltage_data, pulser_voltage_data):\n",
    "                csvwriter.writerow([t, v, q])"
   ]
  },
  {
   "cell_type": "markdown",
   "id": "8b63d594",
   "metadata": {},
   "source": [
    "### for .hdf5 files:"
   ]
  },
  {
   "cell_type": "code",
   "execution_count": 27,
   "id": "756bf198",
   "metadata": {},
   "outputs": [],
   "source": [
    "## data to write a waveform into an hdf5 file\n",
    "def write_waveform_to_hdf5(hdf_file, group_name, time_data, voltage_data, run_num):\n",
    "    \"\"\"\n",
    "    Writes waveform data to HDF5 file under the specified group.\n",
    "\n",
    "    Parameters:\n",
    "    hdf_file (h5py.File): The open HDF5 file object.\n",
    "    group_name (str): The name of the group (e.g., voltage level).\n",
    "    time_data (list or np.array): The time data points.\n",
    "    voltage_data (list or np.array): The corresponding voltage data points.\n",
    "    run_num (int): The current run number to name the dataset.\n",
    "    \"\"\"\n",
    "    # Combine the time and voltage data into a 2D array\n",
    "    waveform_data = np.vstack((time_data, voltage_data)).T\n",
    "    \n",
    "    # Create a dataset for the waveform in the specified group\n",
    "    dataset_name = f\"waveform_{run_num:05d}\"\n",
    "    \n",
    "    # Write the dataset with compression\n",
    "    hdf_file[group_name].create_dataset(dataset_name, data=waveform_data, compression=\"gzip\")\n",
    "    \n",
    "    \"\"\"Optional print statement for debugging and tracking.\"\"\"\n",
    "    # print(f\"Waveform {run_num + 1} saved to group {group_name}.\")"
   ]
  },
  {
   "cell_type": "code",
   "execution_count": 28,
   "id": "7cf804c0",
   "metadata": {},
   "outputs": [],
   "source": [
    "## Function to automatically upload data to google drive\n",
    "\n",
    "def save_hdf5_to_drive(hdf_file_path):\n",
    "    \n",
    "    ## constructing the path to the file you want to upload to the google drive\n",
    "    source_file_path = hdf_file_path\n",
    "    \n",
    "    ## constructing path to the google drive\n",
    "    google_drive_path = google_drive_path = r\"/Users/ilvuoto/Library/CloudStorage/GoogleDrive-dvbowen@lbl.gov/My Drive/ASIC_data_drive\"\n",
    "\n",
    "    ## moving the source file to the google drive\n",
    "    shutil.move(source_file_path, google_drive_path)\n",
    "    \n",
    "    print(f\"Moved data file to {google_drive_path}.\")\n",
    "    "
   ]
  },
  {
   "cell_type": "code",
   "execution_count": 29,
   "id": "90920d14",
   "metadata": {},
   "outputs": [],
   "source": [
    "### function to write important metadata into each file\n",
    "\n",
    "def write_hdf5_metadata(hdf_file, run_type = None):    \n",
    "    ### METADATA\n",
    "    hdf_file.attrs['DEVICE_NAME'] = 'LBNL GFET distributed CSA'\n",
    "    hdf_file.attrs['DEVICE_VOLTAGE'] = '1.0 V'\n",
    "    hdf_file.attrs['V_MID'] = '0.8 V'\n",
    "    hdf_file.attrs['POWER_SUPPLY_PARAMETERS'] = ['5V, 3mA and -5V, 3mA']\n",
    "    hdf_file.attrs['SCOPE_PARAMETERS'] = ['AC termination, 75 Ohms']\n",
    "    hdf_file.attrs['HPGe_LBNL_PPC_BIAS_VOLTAGE'] = ['2 kV']\n",
    "    \n",
    "    if run_type:\n",
    "        hdf_file.attrs['RUN_TYPE'] = run_type"
   ]
  },
  {
   "cell_type": "markdown",
   "id": "18c85f98",
   "metadata": {},
   "source": [
    "## DATA COLLECTION FUNCTIONS"
   ]
  },
  {
   "cell_type": "markdown",
   "id": "628a0e96",
   "metadata": {},
   "source": [
    "##### for .csv and folders method:"
   ]
  },
  {
   "cell_type": "code",
   "execution_count": 32,
   "id": "e60848d5",
   "metadata": {},
   "outputs": [],
   "source": [
    "## Used for bench tests. \n",
    "# PARAMETERS:\n",
    "# voltage_array: array of voltages to set pulser to for testing\n",
    "# num_runs: number of runs at each voltage in the array\n",
    "# folder_title: GIVE THE FOLDER A TITLE like the date of the acquisition, device being tested, etc.\n",
    "def collect_data(voltage_array, num_runs, folder_title = None):\n",
    "    ## create folder title for this run with given title, type of run in this case iterates over an array \n",
    "    ## at each voltage multiple times. \n",
    "    folder_path = create_folder(name = folder_title, \n",
    "                                run_type = f'Array of voltages, each iterated over', \n",
    "                                n_runs = num_runs)\n",
    "    \n",
    "    ## iterating over each voltage in the voltage array\n",
    "    for volt in voltage_array:\n",
    "        \n",
    "        subfolder_name = f'ASIC_PulserVoltage_{volt:.3f}V'.replace('.','p', 1)\n",
    "        subfolder_path = create_folder(base_dir = folder_path, subfolder = subfolder_name)\n",
    "        \n",
    "        counter = 0      ## to save multiple files at same voltage\n",
    "        pulser_v(volt)   ## sets the voltage on the pulser\n",
    "        time.sleep(.01)    ## adds delay for waveform to stabilize before data collection\n",
    "        \n",
    "        \n",
    "        asic_amplitude = get_measurement(3) ## gets ASIC max amplitude so we can adjust scaling\n",
    "        \n",
    "        adjust_y_divisions(asic_amplitude)  ## adjusts y scaling for max resolution using asic amplitude\n",
    "        \n",
    "        ## collects n waveforms at each voltage\n",
    "        for n in range(num_runs):\n",
    "            time_wave, voltage_wave               = get_waveform_data(1) ## gets ASIC waveform data out of channel 1\n",
    "            time_wave_pulser, voltage_wave_pulser = get_waveform_data(4) ## gets pulser voltages \n",
    "            save_to_csv(subfolder_path, time_wave, voltage_wave, voltage_wave_pulser, volt, asic_amplitude)\n",
    "            counter += 1\n",
    "    \n",
    "    "
   ]
  },
  {
   "cell_type": "code",
   "execution_count": 33,
   "id": "b71ded0b",
   "metadata": {},
   "outputs": [],
   "source": [
    "## FOR USE WITH DETECTOR\n",
    "\n",
    "# PARAMETERS:\n",
    "# max_events: number of events saved to .csv file before algorithm terminates\n",
    "def data_scan(max_events = 1000):\n",
    "    \n",
    "    folder_path = create_folder(base_dir = \"./Data\", name = \"ASIC_detector_run_test3\")\n",
    "    count = 0\n",
    "    print(\"Scanning begins..\")\n",
    "    \n",
    "    while True:\n",
    "    # Poll the oscilloscope's trigger status\n",
    "        scope.write('TRIGger:STATE?')\n",
    "        trigger_status = scope.read().strip()\n",
    "    \n",
    "    # Check if the trigger status indicates an event\n",
    "        if trigger_status == 'TRIGGER':  # This indicates an event occurred\n",
    "            print(\"Event detected!\")\n",
    "        \n",
    "            time_wave, voltage_wave               = get_waveform_data(1) ## gets ASIC waveform data out of channel 1\n",
    "            time_wave_pulser, voltage_wave_pulser = get_waveform_data(2) ## gets pulser voltages \n",
    "            save_to_csv_detector(path = folder_path, time_data = time_wave, device_voltage_data = voltage_wave, pulser_voltage_data = voltage_wave_pulser, counter = count)\n",
    "        \n",
    "            ## counter to keep track of how many events have been saved\n",
    "            count += 1\n",
    "        \n",
    "            if count >= max_events:\n",
    "                break"
   ]
  },
  {
   "cell_type": "markdown",
   "id": "42d57355",
   "metadata": {},
   "source": [
    "##### hdf5 file method:"
   ]
  },
  {
   "cell_type": "code",
   "execution_count": 37,
   "id": "cd7427aa",
   "metadata": {},
   "outputs": [],
   "source": [
    "def collect_data_hdf5(voltage_array, num_runs, file_name = None, run_title=None):\n",
    "    \"\"\"\n",
    "    Collects waveform data over multiple runs at different voltages and saves them in an HDF5 file.\n",
    "    \n",
    "    Parameters:\n",
    "    voltage_array (list): Array of voltages to test.\n",
    "    num_runs (int): Number of runs per voltage.\n",
    "    file_name (str): Name of the HDF5 file.\n",
    "    run_title (str): Optional title for the run, used to name the group in the HDF5 file.\n",
    "                     If None, default will be 'ASIC_bench_test_{timestamp}'.\n",
    "    \"\"\"\n",
    "    # Ensure the file is created in the ./Data directory by default\n",
    "    base_dir = './Data'\n",
    "    if not os.path.exists(base_dir):\n",
    "        os.makedirs(base_dir)  # Create the directory if it doesn't exist\n",
    "\n",
    "    # Build the full path by appending the file name to the ./Data directory\n",
    "    hdf5_file_path = os.path.join(base_dir, file_name)\n",
    "\n",
    "    if file_name is None:\n",
    "        timestamp = datetime.now().strftime(\"%Y%m%d_%H%M%S\")\n",
    "        file_name = f\"ASIC_BenchTest_{timestamp}\"\n",
    "    \n",
    "    \n",
    "    # Generate a default run title with a timestamp if run_title is not provided\n",
    "    if run_title is None:\n",
    "        timestamp = datetime.now().strftime(\"%Y%m%d_%H%M%S\")\n",
    "        run_title = f\"ASIC_bench_test_{timestamp}\"\n",
    "\n",
    "    # Open or create the HDF5 file\n",
    "    with h5py.File(hdf5_file_path, 'a') as hdf_file:\n",
    "        \n",
    "        # Write metadata for run type, device parameters, etc\n",
    "        write_hdf5_metadata(hdf_file, run_type = 'Bench test')\n",
    "        \n",
    "        # Create a group for this run using the run_title\n",
    "        run_group = hdf_file.require_group(run_title)\n",
    "\n",
    "        # Iterating over each voltage in the voltage array\n",
    "        for volt in voltage_array:\n",
    "            # Create a subgroup for the current voltage\n",
    "            voltage_group_name = f\"PulserVoltage_{volt:.3f}V\".replace('.', 'p', 1)\n",
    "            voltage_group = run_group.require_group(voltage_group_name)\n",
    "\n",
    "            # Set the voltage on the pulser\n",
    "            pulser_v(volt)\n",
    "            time.sleep(0.3)  # Delay for voltage stabilization\n",
    "\n",
    "            # Get ASIC max amplitude to adjust scaling\n",
    "            asic_amplitude = get_measurement(3)\n",
    "            \n",
    "            # Adjust y scaling for maximum resolution using ASIC amplitude\n",
    "            adjust_y_divisions(asic_amplitude)\n",
    "\n",
    "            # Collect num_runs waveforms at this voltage\n",
    "            for run_num in range(num_runs):\n",
    "                # Get the waveform data\n",
    "                time_wave, voltage_wave = get_waveform_data(1)\n",
    "                \n",
    "                # Save the waveform to HDF5 file\n",
    "                write_waveform_to_hdf5(hdf_file, voltage_group_name, time_wave, voltage_wave, run_num)\n",
    "\n",
    "                # Print progress\n",
    "                print(f\"Run {run_num + 1}/{num_runs} complete for voltage {volt:.3f}V.\")\n",
    "    \n",
    "    # print(f\"Data collection complete. Results saved to {hdf5_file_path}.\"\n",
    "    \n",
    "    save_hdf5_to_drive(hdf5_file_path)\n",
    "    \n",
    "    print(\"Data moved to ASIC_data_drive in the Google Drive.\")"
   ]
  },
  {
   "cell_type": "code",
   "execution_count": 40,
   "id": "d3450faa",
   "metadata": {},
   "outputs": [],
   "source": [
    "## FOR USE WITH DETECTOR\n",
    "\n",
    "# PARAMETERS same as .csv version.\n",
    "def data_scan_hdf5(max_events=1000):\n",
    "        \n",
    "    # Open HDF5 file for storing the waveforms\n",
    "    timestamp = datetime.now().strftime(\"%Y%m%d_%H%M%S\")\n",
    "    hdf5_file_path = f'./Data/ASIC_detector_run_{timestamp}.hdf5'  # You can modify the name or path as needed\n",
    "    hdf_file = h5py.File(hdf5_file_path, 'a')    # Open HDF5 in append mode\n",
    "    \n",
    "    write_hdf5_metadata(hdf_file, run_type = 'Detector test')\n",
    "    \n",
    "    run_title = f\"ASIC_detector_run_{timestamp}\"\n",
    "    run_group = hdf_file.require_group(run_title) ## creating a group for this run so hierarchy is the same\n",
    "    \n",
    "    group_name = run_group.name\n",
    "    \n",
    "    count = 0\n",
    "    print(\"Scanning begins..\")\n",
    "    \n",
    "    while True:\n",
    "        # Poll the oscilloscope's trigger status\n",
    "        scope.write('TRIGger:STATE?')\n",
    "        trigger_status = scope.read().strip()\n",
    "    \n",
    "        # Check if the trigger status indicates an event\n",
    "        if trigger_status == 'TRIGGER':  # This indicates an event occurred\n",
    "            # print(\"Event detected!\")\n",
    "        \n",
    "            # Get the waveform data\n",
    "            time_wave, voltage_wave = get_waveform_data(1)  # ASIC waveform data out of channel 1\n",
    "            # time_wave_pulser, voltage_wave_pulser = get_waveform_data(2)  # Pulser voltages\n",
    "            \n",
    "            # Save waveform to HDF5 file\n",
    "            write_waveform_to_hdf5(hdf_file, group_name, time_wave, voltage_wave, count)\n",
    "        \n",
    "            # Increment counter for tracking how many events have been saved\n",
    "            count += 1\n",
    "        \n",
    "            if count >= max_events:\n",
    "                break\n",
    "    \n",
    "    save_hdf5_to_drive(hdf5_file_path)"
   ]
  },
  {
   "cell_type": "markdown",
   "id": "0803d6c8",
   "metadata": {},
   "source": [
    "# ACTUAL DATA COLLECTION"
   ]
  },
  {
   "cell_type": "markdown",
   "id": "4c0e8f69",
   "metadata": {},
   "source": [
    "### initializing machinery:"
   ]
  },
  {
   "cell_type": "code",
   "execution_count": null,
   "id": "546318d9",
   "metadata": {},
   "outputs": [],
   "source": [
    "## pulser parameters\n",
    "rise_time = 10e-9 \n",
    "fall_time = 10e-9  ## 10 ns rise and fall time\n",
    "pulse_width = .1   ## 100 ms pulse width\n",
    "pulser_delay = 0.0 ## no delay\n",
    "\n",
    "set_horizontal_scale(100e-6) ## sets time axis of oscilloscope to 40 microseconds\n",
    "\n",
    "\n",
    "pulser.write(f':PULS:TRAN:LEAD {10e-9}') \n",
    "pulser.write(f':PULS:TRAN:TRA {10e-9}')  ## rise and fall time to 10 nanos\n",
    "pulser.write(f':PULS:WIDth {.1}')\n",
    "\n",
    "pulser.write(f':PULS:DEL {0.0}') ## 0 delay "
   ]
  },
  {
   "cell_type": "code",
   "execution_count": null,
   "id": "0ebae137",
   "metadata": {},
   "outputs": [],
   "source": [
    "## Run the configuration function for power supply\n",
    "configure_power_supply()"
   ]
  },
  {
   "cell_type": "code",
   "execution_count": null,
   "id": "752f32be",
   "metadata": {},
   "outputs": [],
   "source": [
    "## INITIALIZING SCOPE\n",
    "set_trigger(.1)\n",
    "pulser_v(3.5)\n",
    "set_vert_scale(4, .5)\n",
    "set_vert_scale(1, .5)\n",
    "\n",
    "\n",
    "## STANDARDIZE SCOPE OFFSET SO ITS IDENTICAL ACROSS RUNS\n",
    "scope.write('CH1:POS -4.00')\n",
    "scope.write('CH4:POS -4.00')\n",
    "\n",
    "\n",
    "## SET ACQUISITION MODE TO HIGH RESOLUTION\n",
    "scope.write(':ACQ:MODE HIRES')"
   ]
  },
  {
   "cell_type": "markdown",
   "id": "406eee40",
   "metadata": {},
   "source": [
    "### .csv method: bench test"
   ]
  },
  {
   "cell_type": "code",
   "execution_count": null,
   "id": "5368218e",
   "metadata": {},
   "outputs": [],
   "source": [
    "### array of voltages to run through, modify as needed\n",
    "voltage_array   =    [4.5, 4.4, 4.3, 4.2, 4.1, 4.0, \n",
    "                      3.9, 3.8, 3.7, 3.6, 3.5, 3.4, 3.3, 3.2, 3.1, 3.0, \n",
    "                      2.9, 2.8, 2.7, 2.6, 2.5, 2.4, 2.3, 2.2, 2.1, 2.0,\n",
    "                      1.9, 1.8, 1.7, 1.6, 1.5, 1.4, 1.3, 1.2, 1.1, 1.0,\n",
    "                      .9, .8, .7, .6, .5, .4, .3, .2, .1, \n",
    "                      .09, .08, .07, .06, .05, .04, .03, .02, .017, .013, .01] \n",
    "\n",
    "\n",
    "\n",
    "timestamp = current_time.strftime(\"%Y/%m/%d\")\n",
    "collect_data(voltage_array, 1000, 'ASIC_data_{timestamp}')"
   ]
  },
  {
   "cell_type": "markdown",
   "id": "0b3732b4",
   "metadata": {},
   "source": [
    "### .csv method: detector test"
   ]
  },
  {
   "cell_type": "code",
   "execution_count": null,
   "id": "fd146468",
   "metadata": {},
   "outputs": [],
   "source": [
    "data_scan(max_events = 1000)"
   ]
  },
  {
   "cell_type": "markdown",
   "id": "d121ac64",
   "metadata": {},
   "source": [
    "### .hdf5 method: bench test"
   ]
  },
  {
   "cell_type": "code",
   "execution_count": null,
   "id": "064cb781",
   "metadata": {},
   "outputs": [],
   "source": [
    "### array of voltages to run through, modify as needed\n",
    "volt_array   =    [4.5, 4.4, 4.3, 4.2, 4.1, 4.0, \n",
    "                   3.9, 3.8, 3.7, 3.6, 3.5, 3.4, 3.3, 3.2, 3.1, 3.0, \n",
    "                   2.9, 2.8, 2.7, 2.6, 2.5, 2.4, 2.3, 2.2, 2.1, 2.0,\n",
    "                   1.9, 1.8, 1.7, 1.6, 1.5, 1.4, 1.3, 1.2, 1.1, 1.0,\n",
    "                   .9, .8, .7, .6, .5, .4, .3, .2, .1, \n",
    "                   .09, .08, .07, .06, .05, .04, .03, .02, .017, .013, .01] \n",
    "\n",
    "\n",
    "collect_data_hdf5(voltage_array = volt_array, num_runs = 1000, )"
   ]
  },
  {
   "cell_type": "markdown",
   "id": "c0026ce1",
   "metadata": {},
   "source": [
    "### .hdf5 method: detector test"
   ]
  },
  {
   "cell_type": "code",
   "execution_count": 41,
   "id": "0219bdce",
   "metadata": {},
   "outputs": [
    {
     "name": "stdout",
     "output_type": "stream",
     "text": [
      "Scanning begins..\n"
     ]
    },
    {
     "ename": "KeyboardInterrupt",
     "evalue": "",
     "output_type": "error",
     "traceback": [
      "\u001b[0;31m---------------------------------------------------------------------------\u001b[0m",
      "\u001b[0;31mKeyboardInterrupt\u001b[0m                         Traceback (most recent call last)",
      "Cell \u001b[0;32mIn[41], line 1\u001b[0m\n\u001b[0;32m----> 1\u001b[0m \u001b[43mdata_scan_hdf5\u001b[49m\u001b[43m(\u001b[49m\u001b[43mmax_events\u001b[49m\u001b[43m \u001b[49m\u001b[38;5;241;43m=\u001b[39;49m\u001b[43m \u001b[49m\u001b[38;5;241;43m1000\u001b[39;49m\u001b[43m)\u001b[49m\n",
      "Cell \u001b[0;32mIn[40], line 24\u001b[0m, in \u001b[0;36mdata_scan_hdf5\u001b[0;34m(max_events)\u001b[0m\n\u001b[1;32m     21\u001b[0m \u001b[38;5;28;01mwhile\u001b[39;00m \u001b[38;5;28;01mTrue\u001b[39;00m:\n\u001b[1;32m     22\u001b[0m     \u001b[38;5;66;03m# Poll the oscilloscope's trigger status\u001b[39;00m\n\u001b[1;32m     23\u001b[0m     scope\u001b[38;5;241m.\u001b[39mwrite(\u001b[38;5;124m'\u001b[39m\u001b[38;5;124mTRIGger:STATE?\u001b[39m\u001b[38;5;124m'\u001b[39m)\n\u001b[0;32m---> 24\u001b[0m     trigger_status \u001b[38;5;241m=\u001b[39m \u001b[43mscope\u001b[49m\u001b[38;5;241;43m.\u001b[39;49m\u001b[43mread\u001b[49m\u001b[43m(\u001b[49m\u001b[43m)\u001b[49m\u001b[38;5;241m.\u001b[39mstrip()\n\u001b[1;32m     26\u001b[0m     \u001b[38;5;66;03m# Check if the trigger status indicates an event\u001b[39;00m\n\u001b[1;32m     27\u001b[0m     \u001b[38;5;28;01mif\u001b[39;00m trigger_status \u001b[38;5;241m==\u001b[39m \u001b[38;5;124m'\u001b[39m\u001b[38;5;124mTRIGGER\u001b[39m\u001b[38;5;124m'\u001b[39m:  \u001b[38;5;66;03m# This indicates an event occurred\u001b[39;00m\n\u001b[1;32m     28\u001b[0m         \u001b[38;5;66;03m# print(\"Event detected!\")\u001b[39;00m\n\u001b[1;32m     29\u001b[0m     \n\u001b[1;32m     30\u001b[0m         \u001b[38;5;66;03m# Get the waveform data\u001b[39;00m\n",
      "File \u001b[0;32m~/miniconda3/lib/python3.10/site-packages/pyvisa/resources/messagebased.py:485\u001b[0m, in \u001b[0;36mMessageBasedResource.read\u001b[0;34m(self, termination, encoding)\u001b[0m\n\u001b[1;32m    483\u001b[0m \u001b[38;5;28;01mif\u001b[39;00m termination \u001b[38;5;129;01mis\u001b[39;00m \u001b[38;5;28;01mNone\u001b[39;00m:\n\u001b[1;32m    484\u001b[0m     termination \u001b[38;5;241m=\u001b[39m \u001b[38;5;28mself\u001b[39m\u001b[38;5;241m.\u001b[39m_read_termination\n\u001b[0;32m--> 485\u001b[0m     message \u001b[38;5;241m=\u001b[39m \u001b[38;5;28;43mself\u001b[39;49m\u001b[38;5;241;43m.\u001b[39;49m\u001b[43m_read_raw\u001b[49m\u001b[43m(\u001b[49m\u001b[43m)\u001b[49m\u001b[38;5;241m.\u001b[39mdecode(enco)\n\u001b[1;32m    486\u001b[0m \u001b[38;5;28;01melse\u001b[39;00m:\n\u001b[1;32m    487\u001b[0m     \u001b[38;5;28;01mwith\u001b[39;00m \u001b[38;5;28mself\u001b[39m\u001b[38;5;241m.\u001b[39mread_termination_context(termination):\n",
      "File \u001b[0;32m~/miniconda3/lib/python3.10/site-packages/pyvisa/resources/messagebased.py:441\u001b[0m, in \u001b[0;36mMessageBasedResource._read_raw\u001b[0;34m(self, size)\u001b[0m\n\u001b[1;32m    434\u001b[0m     \u001b[38;5;28;01mwhile\u001b[39;00m status \u001b[38;5;241m==\u001b[39m loop_status:\n\u001b[1;32m    435\u001b[0m         logger\u001b[38;5;241m.\u001b[39mdebug(\n\u001b[1;32m    436\u001b[0m             \u001b[38;5;124m\"\u001b[39m\u001b[38;5;132;01m%s\u001b[39;00m\u001b[38;5;124m - reading \u001b[39m\u001b[38;5;132;01m%d\u001b[39;00m\u001b[38;5;124m bytes (last status \u001b[39m\u001b[38;5;132;01m%r\u001b[39;00m\u001b[38;5;124m)\u001b[39m\u001b[38;5;124m\"\u001b[39m,\n\u001b[1;32m    437\u001b[0m             \u001b[38;5;28mself\u001b[39m\u001b[38;5;241m.\u001b[39m_resource_name,\n\u001b[1;32m    438\u001b[0m             size,\n\u001b[1;32m    439\u001b[0m             status,\n\u001b[1;32m    440\u001b[0m         )\n\u001b[0;32m--> 441\u001b[0m         chunk, status \u001b[38;5;241m=\u001b[39m \u001b[38;5;28;43mself\u001b[39;49m\u001b[38;5;241;43m.\u001b[39;49m\u001b[43mvisalib\u001b[49m\u001b[38;5;241;43m.\u001b[39;49m\u001b[43mread\u001b[49m\u001b[43m(\u001b[49m\u001b[38;5;28;43mself\u001b[39;49m\u001b[38;5;241;43m.\u001b[39;49m\u001b[43msession\u001b[49m\u001b[43m,\u001b[49m\u001b[43m \u001b[49m\u001b[43msize\u001b[49m\u001b[43m)\u001b[49m\n\u001b[1;32m    442\u001b[0m         ret\u001b[38;5;241m.\u001b[39mextend(chunk)\n\u001b[1;32m    443\u001b[0m \u001b[38;5;28;01mexcept\u001b[39;00m errors\u001b[38;5;241m.\u001b[39mVisaIOError \u001b[38;5;28;01mas\u001b[39;00m e:\n",
      "File \u001b[0;32m~/miniconda3/lib/python3.10/site-packages/pyvisa_py/highlevel.py:513\u001b[0m, in \u001b[0;36mPyVisaLibrary.read\u001b[0;34m(self, session, count)\u001b[0m\n\u001b[1;32m    511\u001b[0m \u001b[38;5;66;03m# from the session handle, dispatch to the read method of the session object.\u001b[39;00m\n\u001b[1;32m    512\u001b[0m \u001b[38;5;28;01mtry\u001b[39;00m:\n\u001b[0;32m--> 513\u001b[0m     data, status_code \u001b[38;5;241m=\u001b[39m \u001b[38;5;28;43mself\u001b[39;49m\u001b[38;5;241;43m.\u001b[39;49m\u001b[43msessions\u001b[49m\u001b[43m[\u001b[49m\u001b[43msession\u001b[49m\u001b[43m]\u001b[49m\u001b[38;5;241;43m.\u001b[39;49m\u001b[43mread\u001b[49m\u001b[43m(\u001b[49m\u001b[43mcount\u001b[49m\u001b[43m)\u001b[49m\n\u001b[1;32m    514\u001b[0m \u001b[38;5;28;01mexcept\u001b[39;00m \u001b[38;5;167;01mKeyError\u001b[39;00m:\n\u001b[1;32m    515\u001b[0m     \u001b[38;5;28;01mreturn\u001b[39;00m (\n\u001b[1;32m    516\u001b[0m         \u001b[38;5;124mb\u001b[39m\u001b[38;5;124m\"\u001b[39m\u001b[38;5;124m\"\u001b[39m,\n\u001b[1;32m    517\u001b[0m         \u001b[38;5;28mself\u001b[39m\u001b[38;5;241m.\u001b[39mhandle_return_value(session, StatusCode\u001b[38;5;241m.\u001b[39merror_invalid_object),\n\u001b[1;32m    518\u001b[0m     )\n",
      "File \u001b[0;32m~/miniconda3/lib/python3.10/site-packages/pyvisa_py/tcpip.py:539\u001b[0m, in \u001b[0;36mTCPIPInstrVxi11.read\u001b[0;34m(self, count)\u001b[0m\n\u001b[1;32m    535\u001b[0m \u001b[38;5;28;01mwhile\u001b[39;00m reason \u001b[38;5;241m&\u001b[39m end_reason \u001b[38;5;241m==\u001b[39m \u001b[38;5;241m0\u001b[39m:\n\u001b[1;32m    536\u001b[0m     \u001b[38;5;66;03m# Decrease timeout so that the total timeout does not get larger\u001b[39;00m\n\u001b[1;32m    537\u001b[0m     \u001b[38;5;66;03m# than the specified timeout.\u001b[39;00m\n\u001b[1;32m    538\u001b[0m     timeout \u001b[38;5;241m=\u001b[39m \u001b[38;5;28mmax\u001b[39m(\u001b[38;5;241m0\u001b[39m, timeout \u001b[38;5;241m-\u001b[39m \u001b[38;5;28mint\u001b[39m((time\u001b[38;5;241m.\u001b[39mtime() \u001b[38;5;241m-\u001b[39m start_time) \u001b[38;5;241m*\u001b[39m \u001b[38;5;241m1000\u001b[39m))\n\u001b[0;32m--> 539\u001b[0m     error, reason, data \u001b[38;5;241m=\u001b[39m \u001b[43mread_fun\u001b[49m\u001b[43m(\u001b[49m\n\u001b[1;32m    540\u001b[0m \u001b[43m        \u001b[49m\u001b[38;5;28;43mself\u001b[39;49m\u001b[38;5;241;43m.\u001b[39;49m\u001b[43mlink\u001b[49m\u001b[43m,\u001b[49m\u001b[43m \u001b[49m\u001b[43mchunk_length\u001b[49m\u001b[43m,\u001b[49m\u001b[43m \u001b[49m\u001b[43mtimeout\u001b[49m\u001b[43m,\u001b[49m\u001b[43m \u001b[49m\u001b[38;5;28;43mself\u001b[39;49m\u001b[38;5;241;43m.\u001b[39;49m\u001b[43mlock_timeout\u001b[49m\u001b[43m,\u001b[49m\u001b[43m \u001b[49m\u001b[43mflags\u001b[49m\u001b[43m,\u001b[49m\u001b[43m \u001b[49m\u001b[43mterm_char\u001b[49m\n\u001b[1;32m    541\u001b[0m \u001b[43m    \u001b[49m\u001b[43m)\u001b[49m\n\u001b[1;32m    543\u001b[0m     \u001b[38;5;28;01mif\u001b[39;00m error \u001b[38;5;241m==\u001b[39m vxi11\u001b[38;5;241m.\u001b[39mErrorCodes\u001b[38;5;241m.\u001b[39mio_timeout:\n\u001b[1;32m    544\u001b[0m         \u001b[38;5;28;01mreturn\u001b[39;00m \u001b[38;5;28mbytes\u001b[39m(read_data), StatusCode\u001b[38;5;241m.\u001b[39merror_timeout\n",
      "File \u001b[0;32m~/miniconda3/lib/python3.10/site-packages/pyvisa_py/protocols/vxi11.py:236\u001b[0m, in \u001b[0;36mCoreClient.device_read\u001b[0;34m(self, link, request_size, io_timeout, lock_timeout, flags, term_char)\u001b[0m\n\u001b[1;32m    234\u001b[0m params \u001b[38;5;241m=\u001b[39m (link, request_size, io_timeout, lock_timeout, flags, term_char)\n\u001b[1;32m    235\u001b[0m \u001b[38;5;28;01mtry\u001b[39;00m:\n\u001b[0;32m--> 236\u001b[0m     \u001b[38;5;28;01mreturn\u001b[39;00m \u001b[38;5;28;43mself\u001b[39;49m\u001b[38;5;241;43m.\u001b[39;49m\u001b[43mmake_call\u001b[49m\u001b[43m(\u001b[49m\n\u001b[1;32m    237\u001b[0m \u001b[43m        \u001b[49m\u001b[43mDEVICE_READ\u001b[49m\u001b[43m,\u001b[49m\n\u001b[1;32m    238\u001b[0m \u001b[43m        \u001b[49m\u001b[43mparams\u001b[49m\u001b[43m,\u001b[49m\n\u001b[1;32m    239\u001b[0m \u001b[43m        \u001b[49m\u001b[38;5;28;43mself\u001b[39;49m\u001b[38;5;241;43m.\u001b[39;49m\u001b[43mpacker\u001b[49m\u001b[38;5;241;43m.\u001b[39;49m\u001b[43mpack_device_read_parms\u001b[49m\u001b[43m,\u001b[49m\n\u001b[1;32m    240\u001b[0m \u001b[43m        \u001b[49m\u001b[38;5;28;43mself\u001b[39;49m\u001b[38;5;241;43m.\u001b[39;49m\u001b[43munpacker\u001b[49m\u001b[38;5;241;43m.\u001b[39;49m\u001b[43munpack_device_read_resp\u001b[49m\u001b[43m,\u001b[49m\n\u001b[1;32m    241\u001b[0m \u001b[43m    \u001b[49m\u001b[43m)\u001b[49m\n\u001b[1;32m    242\u001b[0m \u001b[38;5;28;01mexcept\u001b[39;00m socket\u001b[38;5;241m.\u001b[39mtimeout \u001b[38;5;28;01mas\u001b[39;00m e:\n\u001b[1;32m    243\u001b[0m     \u001b[38;5;28;01mreturn\u001b[39;00m ErrorCodes\u001b[38;5;241m.\u001b[39mio_error, e\u001b[38;5;241m.\u001b[39margs[\u001b[38;5;241m0\u001b[39m], \u001b[38;5;124m\"\u001b[39m\u001b[38;5;124m\"\u001b[39m\n",
      "File \u001b[0;32m~/miniconda3/lib/python3.10/site-packages/pyvisa_py/protocols/rpc.py:480\u001b[0m, in \u001b[0;36mRawTCPClient.make_call\u001b[0;34m(self, proc, args, pack_func, unpack_func)\u001b[0m\n\u001b[1;32m    474\u001b[0m \u001b[38;5;66;03m# In case of a timeout because the instrument cannot answer, the\u001b[39;00m\n\u001b[1;32m    475\u001b[0m \u001b[38;5;66;03m# instrument should let use something went wrong. If we hit the hard\u001b[39;00m\n\u001b[1;32m    476\u001b[0m \u001b[38;5;66;03m# timeout of the rpc, it means something worse happened (cable\u001b[39;00m\n\u001b[1;32m    477\u001b[0m \u001b[38;5;66;03m# unplugged).\u001b[39;00m\n\u001b[1;32m    478\u001b[0m \u001b[38;5;28mself\u001b[39m\u001b[38;5;241m.\u001b[39mtimeout \u001b[38;5;241m+\u001b[39m\u001b[38;5;241m=\u001b[39m \u001b[38;5;241m1.0\u001b[39m\n\u001b[0;32m--> 480\u001b[0m \u001b[38;5;28;01mreturn\u001b[39;00m \u001b[38;5;28;43msuper\u001b[39;49m\u001b[43m(\u001b[49m\u001b[43mRawTCPClient\u001b[49m\u001b[43m,\u001b[49m\u001b[43m \u001b[49m\u001b[38;5;28;43mself\u001b[39;49m\u001b[43m)\u001b[49m\u001b[38;5;241;43m.\u001b[39;49m\u001b[43mmake_call\u001b[49m\u001b[43m(\u001b[49m\u001b[43mproc\u001b[49m\u001b[43m,\u001b[49m\u001b[43m \u001b[49m\u001b[43margs\u001b[49m\u001b[43m,\u001b[49m\u001b[43m \u001b[49m\u001b[43mpack_func\u001b[49m\u001b[43m,\u001b[49m\u001b[43m \u001b[49m\u001b[43munpack_func\u001b[49m\u001b[43m)\u001b[49m\n",
      "File \u001b[0;32m~/miniconda3/lib/python3.10/site-packages/pyvisa_py/protocols/rpc.py:235\u001b[0m, in \u001b[0;36mClient.make_call\u001b[0;34m(self, proc, args, pack_func, unpack_func)\u001b[0m\n\u001b[1;32m    233\u001b[0m \u001b[38;5;28;01mif\u001b[39;00m pack_func:\n\u001b[1;32m    234\u001b[0m     pack_func(args)\n\u001b[0;32m--> 235\u001b[0m \u001b[38;5;28;43mself\u001b[39;49m\u001b[38;5;241;43m.\u001b[39;49m\u001b[43mdo_call\u001b[49m\u001b[43m(\u001b[49m\u001b[43m)\u001b[49m\n\u001b[1;32m    236\u001b[0m \u001b[38;5;28;01mif\u001b[39;00m unpack_func:\n\u001b[1;32m    237\u001b[0m     result \u001b[38;5;241m=\u001b[39m unpack_func()\n",
      "File \u001b[0;32m~/miniconda3/lib/python3.10/site-packages/pyvisa_py/protocols/rpc.py:508\u001b[0m, in \u001b[0;36mRawTCPClient.do_call\u001b[0;34m(self)\u001b[0m\n\u001b[1;32m    505\u001b[0m     min_packages \u001b[38;5;241m=\u001b[39m \u001b[38;5;241m0\u001b[39m\n\u001b[1;32m    507\u001b[0m \u001b[38;5;28;01mwhile\u001b[39;00m \u001b[38;5;28;01mTrue\u001b[39;00m:\n\u001b[0;32m--> 508\u001b[0m     reply \u001b[38;5;241m=\u001b[39m \u001b[43m_recvrecord\u001b[49m\u001b[43m(\u001b[49m\u001b[38;5;28;43mself\u001b[39;49m\u001b[38;5;241;43m.\u001b[39;49m\u001b[43msock\u001b[49m\u001b[43m,\u001b[49m\u001b[43m \u001b[49m\u001b[38;5;28;43mself\u001b[39;49m\u001b[38;5;241;43m.\u001b[39;49m\u001b[43mtimeout\u001b[49m\u001b[43m,\u001b[49m\u001b[43m \u001b[49m\u001b[43mmin_packages\u001b[49m\u001b[38;5;241;43m=\u001b[39;49m\u001b[43mmin_packages\u001b[49m\u001b[43m)\u001b[49m\n\u001b[1;32m    509\u001b[0m     u \u001b[38;5;241m=\u001b[39m \u001b[38;5;28mself\u001b[39m\u001b[38;5;241m.\u001b[39munpacker\n\u001b[1;32m    510\u001b[0m     u\u001b[38;5;241m.\u001b[39mreset(reply)\n",
      "File \u001b[0;32m~/miniconda3/lib/python3.10/site-packages/pyvisa_py/protocols/rpc.py:353\u001b[0m, in \u001b[0;36m_recvrecord\u001b[0;34m(sock, timeout, read_fun, min_packages)\u001b[0m\n\u001b[1;32m    349\u001b[0m \u001b[38;5;28;01mwhile\u001b[39;00m \u001b[38;5;28;01mTrue\u001b[39;00m:\n\u001b[1;32m    350\u001b[0m     \u001b[38;5;66;03m# if more data for the current fragment is needed, use select\u001b[39;00m\n\u001b[1;32m    351\u001b[0m     \u001b[38;5;66;03m# to wait for read ready, max `select_timeout` seconds\u001b[39;00m\n\u001b[1;32m    352\u001b[0m     \u001b[38;5;28;01mif\u001b[39;00m \u001b[38;5;28mlen\u001b[39m(buffer) \u001b[38;5;241m<\u001b[39m exp_length:\n\u001b[0;32m--> 353\u001b[0m         r, w, x \u001b[38;5;241m=\u001b[39m \u001b[43mselect\u001b[49m\u001b[38;5;241;43m.\u001b[39;49m\u001b[43mselect\u001b[49m\u001b[43m(\u001b[49m\u001b[43m[\u001b[49m\u001b[43msock\u001b[49m\u001b[43m]\u001b[49m\u001b[43m,\u001b[49m\u001b[43m \u001b[49m\u001b[43m[\u001b[49m\u001b[43m]\u001b[49m\u001b[43m,\u001b[49m\u001b[43m \u001b[49m\u001b[43m[\u001b[49m\u001b[43m]\u001b[49m\u001b[43m,\u001b[49m\u001b[43m \u001b[49m\u001b[43mselect_timeout\u001b[49m\u001b[43m)\u001b[49m\n\u001b[1;32m    354\u001b[0m         read_data \u001b[38;5;241m=\u001b[39m \u001b[38;5;124mb\u001b[39m\u001b[38;5;124m\"\u001b[39m\u001b[38;5;124m\"\u001b[39m\n\u001b[1;32m    355\u001b[0m         \u001b[38;5;28;01mif\u001b[39;00m sock \u001b[38;5;129;01min\u001b[39;00m r:\n",
      "\u001b[0;31mKeyboardInterrupt\u001b[0m: "
     ]
    }
   ],
   "source": [
    "data_scan_hdf5(max_events = 1000)"
   ]
  },
  {
   "cell_type": "code",
   "execution_count": null,
   "id": "d5e927ef",
   "metadata": {},
   "outputs": [],
   "source": []
  }
 ],
 "metadata": {
  "kernelspec": {
   "display_name": "Python 3 (ipykernel)",
   "language": "python",
   "name": "python3"
  },
  "language_info": {
   "codemirror_mode": {
    "name": "ipython",
    "version": 3
   },
   "file_extension": ".py",
   "mimetype": "text/x-python",
   "name": "python",
   "nbconvert_exporter": "python",
   "pygments_lexer": "ipython3",
   "version": "3.10.11"
  }
 },
 "nbformat": 4,
 "nbformat_minor": 5
}
