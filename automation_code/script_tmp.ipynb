{
 "cells": [
  {
   "cell_type": "markdown",
   "id": "7717b969",
   "metadata": {},
   "source": [
    "# CODE FOR AUTOMATION OF DATA COLLECTION Germanium detector \n",
    "## LBNL lab 70-0141\n",
    "## By Damien Bowen , updated: Lisa Schlueter September 2024"
   ]
  },
  {
   "cell_type": "markdown",
   "id": "1e86e02f",
   "metadata": {},
   "source": [
    "### Initialization (packages, connecting to instrumentation)"
   ]
  },
  {
   "cell_type": "code",
   "execution_count": 2,
   "id": "ea2830d1",
   "metadata": {},
   "outputs": [],
   "source": [
    "## packages\n",
    "import shutil\n",
    "import pyvisa\n",
    "import csv\n",
    "import numpy as np\n",
    "import matplotlib.pyplot as plt\n",
    "import pandas as pd\n",
    "import time\n",
    "import struct \n",
    "import os\n",
    "from datetime import datetime\n",
    "import h5py"
   ]
  },
  {
   "cell_type": "markdown",
   "id": "baa004f4",
   "metadata": {},
   "source": [
    "##### Electronics have had their ip address configured as given below"
   ]
  },
  {
   "cell_type": "code",
   "execution_count": 11,
   "id": "48bae0b1",
   "metadata": {},
   "outputs": [
    {
     "data": {
      "text/plain": [
       "<ResourceManager(<PyVisaLibrary('py')>)>"
      ]
     },
     "execution_count": 11,
     "metadata": {},
     "output_type": "execute_result"
    }
   ],
   "source": [
    "## initializing resource manager for the electronics\n",
    "rm = pyvisa.ResourceManager('@py')"
   ]
  },
  {
   "cell_type": "code",
   "execution_count": 19,
   "id": "7d7ae737",
   "metadata": {},
   "outputs": [
    {
     "name": "stdout",
     "output_type": "stream",
     "text": [
      "TEKTRONIX,MSO44B,SGVJ010162,CF:91.1CT FV:2.6.38.1348\n",
      "\n"
     ]
    }
   ],
   "source": [
    "## connecting to the oscilloscope (essential for both detector tests and bench tests)\n",
    "scope = rm.open_resource('TCPIP0::169.254.7.109')\n",
    "print(scope.query('*IDN?')) ## prints make and model of oscilloscope to verify connection"
   ]
  },
  {
   "cell_type": "code",
   "execution_count": 5,
   "id": "47968467",
   "metadata": {},
   "outputs": [
    {
     "ename": "NameError",
     "evalue": "name 'scope' is not defined",
     "output_type": "error",
     "traceback": [
      "\u001b[0;31m---------------------------------------------------------------------------\u001b[0m",
      "\u001b[0;31mNameError\u001b[0m                                 Traceback (most recent call last)",
      "Cell \u001b[0;32mIn[5], line 1\u001b[0m\n\u001b[0;32m----> 1\u001b[0m \u001b[43mscope\u001b[49m\u001b[38;5;241m.\u001b[39mquery(\u001b[38;5;124m'\u001b[39m\u001b[38;5;124m:TIM:SCAL?\u001b[39m\u001b[38;5;124m'\u001b[39m)\n",
      "\u001b[0;31mNameError\u001b[0m: name 'scope' is not defined"
     ]
    }
   ],
   "source": [
    "scope.query(':TIM:SCAL?')"
   ]
  },
  {
   "cell_type": "markdown",
   "id": "80736861",
   "metadata": {},
   "source": [
    "# Definition of functions, categorized as best as possible below"
   ]
  },
  {
   "cell_type": "markdown",
   "id": "0843ceda",
   "metadata": {},
   "source": [
    "### For interacting with the electronics:"
   ]
  },
  {
   "cell_type": "code",
   "execution_count": 20,
   "id": "fe582449",
   "metadata": {},
   "outputs": [],
   "source": [
    "## gets measurement from any of the measurement channels on oscilloscope\n",
    "def get_measurement(measurement_channel):\n",
    "    # Query the value of the specified measurement channel\n",
    "    measurement = scope.query(f':MEASU:MEAS{measurement_channel}:VALue?')\n",
    "    return float(measurement)"
   ]
  },
  {
   "cell_type": "code",
   "execution_count": 21,
   "id": "0725b3a6",
   "metadata": {},
   "outputs": [],
   "source": [
    "## make sure to adjust which channel you want to use for the trigger\n",
    "def set_trigger(trigger_level):\n",
    "    # Construct the SCPI command to set the trigger source\n",
    "    scope.write('TRIGger:A:EDGE:SOURce CH4') ## makes sure the trigger is set to channel 4\n",
    "        \n",
    "    # Construct the SCPI command to set the trigger level\n",
    "    scope.write(f'TRIGger:A:LEVel:CH4 {trigger_level}') ## set trigger as low as possible "
   ]
  },
  {
   "cell_type": "code",
   "execution_count": 22,
   "id": "82c47a30",
   "metadata": {},
   "outputs": [],
   "source": [
    "# getting waveform data from oscilloscope for a given channel\n",
    "def get_waveform_data(channel):\n",
    "    # Select the channel\n",
    "    scope.write(f'DATA:SOURCE CH{channel}')\n",
    "    scope.write(f'DATA:WIDTH 2')\n",
    "    \n",
    "    raw_data = scope.query_binary_values('CURVE?', datatype = 'b', container=np.array)\n",
    "\n",
    "# Horizontal scale settings to reconstruct time data\n",
    "    x_increment = float(scope.query('WFMPRE:XINCR?'))\n",
    "    x_zero = float(scope.query('WFMPRE:XZERO?'))\n",
    "    x_offset = float(scope.query('WFMPRE:PT_OFF?'))\n",
    "    # print(x_offset, x_zero)\n",
    "\n",
    "# Get vertical scale settings to reconstruct voltage data\n",
    "    y_multiplier = float(scope.query('WFMPRE:YMULT?'))\n",
    "    y_offset = float(scope.query('WFMPRE:YOFF?'))\n",
    "    y_zero = float(scope.query('WFMPRE:YZERO?'))\n",
    "\n",
    "# Convert raw data to numpy array\n",
    "    data = np.frombuffer(raw_data, dtype=np.int16)  # Adjust dtype if needed\n",
    "\n",
    "# Reconstruct time and voltage data\n",
    "    time_data = x_zero + (np.arange(len(data)) - x_offset) * x_increment\n",
    "    voltage_data = y_zero + (data - y_offset)*y_multiplier\n",
    "\n",
    "    return time_data, voltage_data"
   ]
  },
  {
   "cell_type": "code",
   "execution_count": 23,
   "id": "9d0018c8",
   "metadata": {},
   "outputs": [],
   "source": [
    "## corrects the vertical scaling of the oscilloscope based on the peak voltage. \n",
    "## this function is used in combination with get_measurement() to get the peak voltage through the device \n",
    "## being tested.\n",
    "def correct_y_scaling(wave_amplitude):\n",
    "\n",
    "    ## takes in amplitude of the ASIC (a float) and adjusts y divisions of oscilloscope as required\n",
    "    if 1.6 < wave_amplitude <= 4:\n",
    "        set_trigger(0.1)\n",
    "        set_vert_scale(1, 0.5)\n",
    "        set_vert_scale(4, 0.5)\n",
    "    elif 0.8 <= wave_amplitude <= 1.6:\n",
    "        set_vert_scale(1, 0.2)  # 200 mV/div for both ASIC readout, pulser\n",
    "        set_vert_scale(4, 0.2)\n",
    "    elif 0.4 <= wave_amplitude < 0.8:\n",
    "        set_vert_scale(1, 0.1)  # 100 mV/div for ASIC, still 200 for pulser\n",
    "    elif 0.18 <= wave_amplitude < 0.4:\n",
    "        set_trigger(0.05)\n",
    "        set_vert_scale(1, 0.05)  # 50 mV/div on ASIC readout\n",
    "        set_vert_scale(4, 0.1)   # 100 mV/div for pulser\n",
    "    elif 0.08 <= wave_amplitude < 0.18:\n",
    "        set_trigger(0.05)\n",
    "        set_vert_scale(1, 0.02)  # 20 mV/div\n",
    "        set_vert_scale(4, 0.05)  # 50 mV/div for pulser\n",
    "    elif 0.04 <= wave_amplitude < 0.08:\n",
    "        set_trigger(0.02)\n",
    "        set_vert_scale(1, 0.01)  # 10 mV/div\n",
    "        set_vert_scale(4, 0.02)  # 20 mV/div for pulser\n",
    "    elif 0.015 <= wave_amplitude < 0.04:\n",
    "        set_trigger(0.01)\n",
    "        set_vert_scale(1, 0.005)  # 5 mV / div\n",
    "        set_vert_scale(4, 0.01)   # 10 mV/div for pulser\n",
    "    elif .008 <= wave_amplitude < 0.015:\n",
    "        set_trigger(0.004)\n",
    "        set_vert_scale(1, 0.002)\n",
    "    elif 0.0 <= wave_amplitude < .008:\n",
    "        set_vert_scale(1, 0.001)\n"
   ]
  },
  {
   "cell_type": "markdown",
   "id": "443d0515",
   "metadata": {},
   "source": [
    "# Saving data to different file types. Currently, .csv and .hdf5 are available (.hdf5 is significantly faster)"
   ]
  },
  {
   "cell_type": "markdown",
   "id": "8edbddd5",
   "metadata": {},
   "source": [
    "##### code for creation of folders:"
   ]
  },
  {
   "cell_type": "code",
   "execution_count": 24,
   "id": "db41e9a4",
   "metadata": {},
   "outputs": [],
   "source": [
    "## creates folder for .csv files to be inserted into. The folder is automatically created in this directory\n",
    "## in the folder I have called ./Data.\n",
    "## GIVE THE FOLDER A NAME IN THE ALGORITHMS\n",
    "def create_folder(base_dir='./Data', name = None, run_type = None, n_runs = None, subfolder = None):\n",
    "    # If a subfolder is specified, use it directly without generating a new folder name\n",
    "    if subfolder:\n",
    "        folder_path = os.path.join(base_dir, subfolder)\n",
    "    else:\n",
    "        # Generate a folder name if 'name' is not provided and 'subfolder' is not specified\n",
    "        if name is None:\n",
    "            name = f'ASIC_data_{int(time.time())}'\n",
    "        else:\n",
    "            current_date = datetime.datetime.now().strftime('%Y%m%d')\n",
    "            name = f'{name}_{current_date}'\n",
    "        folder_path = os.path.join(base_dir, name)\n",
    "    \n",
    "    # Create the folder (or subfolder) path\n",
    "    os.makedirs(folder_path, exist_ok=True)\n",
    "    # print(f'Folder created: {folder_path}')\n",
    "    \n",
    "    ## create a .csv file with important metadata for main data collection folders\n",
    "    if not subfolder:\n",
    "        info_filename = 'run_info.csv'\n",
    "        info_filepath = os.path.join(folder_path, info_filename)\n",
    "        current_date = datetime.datetime.now().strftime('%Y-%m-%d')\n",
    "        current_time = datetime.datetime.now().strftime('%H:%M:%S')\n",
    "\n",
    "        with open(info_filepath, 'w', newline='') as csvfile:\n",
    "            csvwriter = csv.writer(csvfile)\n",
    "            csvwriter.writerow(['Oscilloscope: TEKTRONIX MSO44B', 'Pulser: TELEDYNE T3AFG500'])\n",
    "            csvwriter.writerow([f'Date: {current_date}', f'Time: {current_time}'])\n",
    "            csvwriter.writerow(['Time units: microseconds', 'Voltage units: Volts'])\n",
    "\n",
    "\n",
    "            if run_type:\n",
    "                csvwriter.writerow([f'Run type: {run_type}'])\n",
    "\n",
    "            if n_runs:\n",
    "                csvwriter.writerow([f'# of iterations at each voltage: {n_runs}'])\n",
    "    \n",
    "    return folder_path"
   ]
  },
  {
   "cell_type": "markdown",
   "id": "8b63d594",
   "metadata": {},
   "source": [
    "### save data to .hdf5 file:"
   ]
  },
  {
   "cell_type": "code",
   "execution_count": 27,
   "id": "756bf198",
   "metadata": {},
   "outputs": [],
   "source": [
    "## data to write a waveform into an hdf5 file\n",
    "def write_waveform_to_hdf5(hdf_file, group_name, time_data, voltage_data, run_num):\n",
    "    \"\"\"\n",
    "    Writes waveform data to HDF5 file under the specified group.\n",
    "\n",
    "    Parameters:\n",
    "    hdf_file (h5py.File): The open HDF5 file object.\n",
    "    group_name (str): The name of the group (e.g., voltage level).\n",
    "    time_data (list or np.array): The time data points.\n",
    "    voltage_data (list or np.array): The corresponding voltage data points.\n",
    "    run_num (int): The current run number to name the dataset.\n",
    "    \"\"\"\n",
    "    # Combine the time and voltage data into a 2D array\n",
    "    waveform_data = np.vstack((time_data, voltage_data)).T\n",
    "    \n",
    "    # Create a dataset for the waveform in the specified group\n",
    "    dataset_name = f\"waveform_{run_num:05d}\"\n",
    "    \n",
    "    # Write the dataset with compression\n",
    "    hdf_file[group_name].create_dataset(dataset_name, data=waveform_data, compression=\"gzip\")\n",
    "    \n",
    "    \"\"\"Optional print statement for debugging and tracking.\"\"\"\n",
    "    # print(f\"Waveform {run_num + 1} saved to group {group_name}.\")"
   ]
  },
  {
   "cell_type": "code",
   "execution_count": 28,
   "id": "7cf804c0",
   "metadata": {},
   "outputs": [],
   "source": [
    "## Function to automatically upload data to google drive\n",
    "\n",
    "def save_hdf5_to_drive(hdf_file_path):\n",
    "    \n",
    "    ## constructing the path to the file you want to upload to the google drive\n",
    "    source_file_path = hdf_file_path\n",
    "    \n",
    "    ## constructing path to the google drive\n",
    "    google_drive_path = google_drive_path = r\"/Users/ilvuoto/Library/CloudStorage/GoogleDrive-dvbowen@lbl.gov/My Drive/ASIC_data_drive\"\n",
    "\n",
    "    ## moving the source file to the google drive\n",
    "    shutil.move(source_file_path, google_drive_path)\n",
    "    \n",
    "    print(f\"Moved data file to {google_drive_path}.\")\n",
    "    "
   ]
  },
  {
   "cell_type": "code",
   "execution_count": 29,
   "id": "90920d14",
   "metadata": {},
   "outputs": [],
   "source": [
    "### function to write important metadata into each file\n",
    "\n",
    "def write_hdf5_metadata_osci(hdf_file, channel):    \n",
    "    ### METADATA\n",
    "    # hdf_file.attrs['DEVICE_NAME'] = 'LBNL GFET distributed CSA'\n",
    "    # hdf_file.attrs['DEVICE_VOLTAGE'] = '1.0 V'\n",
    "    # hdf_file.attrs['V_MID'] = '0.8 V'\n",
    "    # hdf_file.attrs['POWER_SUPPLY_PARAMETERS'] = ['5V, 3mA and -5V, 3mA']\n",
    "    # hdf_file.attrs['SCOPE_PARAMETERS'] = ['AC termination, 75 Ohms']\n",
    "    # hdf_file.attrs['HPGe_LBNL_PPC_BIAS_VOLTAGE'] = ['2 kV']\n",
    "    scope_group = hdf_file.create_group('oscilloscope')\n",
    "    \n",
    "    scope.write(f':CHANnel{channel}:IMPedance?')\n",
    "    input_impedance = scope.read().strip()\n",
    "\n",
    "    scope.write(f':CHANnel{channel}:COUPling?')\n",
    "    coupling_mode = scope.read().strip()\n",
    "    \n",
    "     # Add to file \n",
    "    scope_group.create_dataset('input_impedance', data=input_impedance)\n",
    "    scope_group.create_dataset('coupling_mode', data=coupling_mode)\n",
    "    # hdf_file.attrs['INPUT_IMPEDANCE'] = input_impedance\n",
    "    # hdf_file.attrs['COUPLING_MODE'] = coupling_mode\n",
    "    \n",
    "    # if run_type:\n",
    "    #     hdf_file.attrs['RUN_TYPE'] = run_type"
   ]
  },
  {
   "cell_type": "code",
   "execution_count": null,
   "id": "ec7dc0c6",
   "metadata": {},
   "outputs": [],
   "source": [
    "def write_hdf5_metadata_detector(hdf_file: h5py.File, bias_voltage_V: float): \n",
    "    det_group = hdf_file.create_group('detector')\n",
    "    \n",
    "    bias_voltage_dataset = det_group.create_dataset('bias_voltage', data=bias_voltage_V)\n",
    "    bias_voltage_dataset.attrs['unit'] = 'V'\n",
    "    "
   ]
  },
  {
   "cell_type": "markdown",
   "id": "b6c067e1",
   "metadata": {},
   "source": [
    "def write_hdf5_metadata_csa(hdf_file, csa_name:str, csa_bias_V: float, resistor_ohm: float, resistor_type: str, csa_info: str = \"\"): \n",
    "    csa_group = hdf_file.create_group('CSA')\n",
    "    csa_group.attrs['type'] = csa_name\n",
    "    if csa_aux != \"\":\n",
    "        csa_group.attrs['info'] = csa_info\n",
    "\n",
    "    resistor_dataset = csa_group.create_dataset('resistor', data=resistor_ohm)\n",
    "    resistor_dataset.attrs['unit'] = 'Ohm'\n",
    "    resistor_dataset.attrs['type'] = resistor_type\n",
    "\n",
    "    bias_dataset = csa_group.create_dataset('bias', data=csa_bias_V)\n",
    "    bias_dataset.attrs['unit'] = 'V'\n",
    "   \n",
    "\n",
    "    "
   ]
  },
  {
   "cell_type": "markdown",
   "id": "18c85f98",
   "metadata": {},
   "source": [
    "## DATA COLLECTION FUNCTIONS"
   ]
  },
  {
   "cell_type": "code",
   "execution_count": 33,
   "id": "b71ded0b",
   "metadata": {},
   "outputs": [],
   "source": [
    "## FOR USE WITH DETECTOR\n",
    "\n",
    "# PARAMETERS:\n",
    "# max_events: number of events saved to .csv file before algorithm terminates\n",
    "def data_scan(max_events = 1000):\n",
    "    \n",
    "    folder_path = create_folder(base_dir = \"./Data\", name = \"ASIC_detector_run_test3\")\n",
    "    count = 0\n",
    "    print(\"Scanning begins..\")\n",
    "    \n",
    "    while True:\n",
    "    # Poll the oscilloscope's trigger status\n",
    "        scope.write('TRIGger:STATE?')\n",
    "        trigger_status = scope.read().strip()\n",
    "    \n",
    "    # Check if the trigger status indicates an event\n",
    "        if trigger_status == 'TRIGGER':  # This indicates an event occurred\n",
    "            print(\"Event detected!\")\n",
    "        \n",
    "            time_wave, voltage_wave               = get_waveform_data(1) ## gets ASIC waveform data out of channel 1\n",
    "            time_wave_pulser, voltage_wave_pulser = get_waveform_data(2) ## gets pulser voltages \n",
    "            save_to_csv_detector(path = folder_path, time_data = time_wave, device_voltage_data = voltage_wave, pulser_voltage_data = voltage_wave_pulser, counter = count)\n",
    "        \n",
    "            ## counter to keep track of how many events have been saved\n",
    "            count += 1\n",
    "        \n",
    "            if count >= max_events:\n",
    "                break"
   ]
  },
  {
   "cell_type": "markdown",
   "id": "42d57355",
   "metadata": {},
   "source": [
    "##### hdf5 file method:"
   ]
  },
  {
   "cell_type": "code",
   "execution_count": 40,
   "id": "d3450faa",
   "metadata": {},
   "outputs": [],
   "source": [
    "## FOR USE WITH DETECTOR\n",
    "\n",
    "# PARAMETERS same as .csv version.\n",
    "def data_scan_hdf5(max_events=1000):\n",
    "        \n",
    "    # Open HDF5 file for storing the waveforms\n",
    "    timestamp = datetime.now().strftime(\"%Y%m%d_%H%M%S\")\n",
    "    hdf5_file_path = f'./Data/ASIC_detector_run_{timestamp}.hdf5'  # You can modify the name or path as needed\n",
    "    hdf_file = h5py.File(hdf5_file_path, 'a')    # Open HDF5 in append mode\n",
    "    \n",
    "    write_hdf5_metadata(hdf_file, run_type = 'Detector test')\n",
    "    \n",
    "    run_title = f\"ASIC_detector_run_{timestamp}\"\n",
    "    run_group = hdf_file.require_group(run_title) ## creating a group for this run so hierarchy is the same\n",
    "    \n",
    "    group_name = run_group.name\n",
    "    \n",
    "    count = 0\n",
    "    print(\"Scanning begins..\")\n",
    "    \n",
    "    while True:\n",
    "        # Poll the oscilloscope's trigger status\n",
    "        scope.write('TRIGger:STATE?')\n",
    "        trigger_status = scope.read().strip()\n",
    "    \n",
    "        # Check if the trigger status indicates an event\n",
    "        if trigger_status == 'TRIGGER':  # This indicates an event occurred\n",
    "            # print(\"Event detected!\")\n",
    "\n",
    "            # Get the waveform data\n",
    "            time_wave, voltage_wave = get_waveform_data(1)  # ASIC waveform data out of channel 1\n",
    "            # time_wave_pulser, voltage_wave_pulser = get_waveform_data(2)  # Pulser voltages\n",
    "            \n",
    "            if count == 0:\n",
    "                waveforms_group = hdf_file.require_group('waveforms')\n",
    "                time_dataset =  waveforms_group.create_dataset('timestep', data= time_wave, maxshape=(None,), chunks=True)'\n",
    "                time_dataset.attrs['unit'] = 's'\n",
    "                # save time data to the HDF5 file -> only ONCE!\n",
    "                #  Create a group for the ASIC data\n",
    "                #  hdf_file.create_group(group_name)\n",
    "            count += 1\n",
    "            # if count % 100 == 0:  \n",
    "                # print(f\"Saving event {count-100} - {count} to HDF5 file.\")  \n",
    "            # # Save waveform to HDF5 file\n",
    "            # write_waveform_to_hdf5(hdf_file, group_name, time_wave, voltage_wave, count)\n",
    "        \n",
    "            # Increment counter for tracking how many events have been saved\n",
    "            \n",
    "        \n",
    "            if count >= max_events:\n",
    "                voltage_dataset =  waveforms_group.create_dataset('voltage', data= voltage_wvf, maxshape=(None,), chunks=True)'\n",
    "                voltage_dataset.attrs['unit'] = 'V'\n",
    "                break\n",
    "    \n",
    "    save_hdf5_to_drive(hdf5_file_path)"
   ]
  },
  {
   "cell_type": "markdown",
   "id": "0803d6c8",
   "metadata": {},
   "source": [
    "# ACTUAL DATA COLLECTION"
   ]
  },
  {
   "cell_type": "markdown",
   "id": "4c0e8f69",
   "metadata": {},
   "source": [
    "### initializing machinery:"
   ]
  },
  {
   "cell_type": "code",
   "execution_count": null,
   "id": "546318d9",
   "metadata": {},
   "outputs": [],
   "source": [
    "## pulser parameters\n",
    "rise_time = 10e-9 \n",
    "fall_time = 10e-9  ## 10 ns rise and fall time\n",
    "pulse_width = .1   ## 100 ms pulse width\n",
    "pulser_delay = 0.0 ## no delay\n",
    "\n",
    "set_horizontal_scale(100e-6) ## sets time axis of oscilloscope to 40 microseconds\n",
    "\n",
    "\n",
    "pulser.write(f':PULS:TRAN:LEAD {10e-9}') \n",
    "pulser.write(f':PULS:TRAN:TRA {10e-9}')  ## rise and fall time to 10 nanos\n",
    "pulser.write(f':PULS:WIDth {.1}')\n",
    "\n",
    "pulser.write(f':PULS:DEL {0.0}') ## 0 delay "
   ]
  },
  {
   "cell_type": "code",
   "execution_count": null,
   "id": "0ebae137",
   "metadata": {},
   "outputs": [],
   "source": [
    "## Run the configuration function for power supply\n",
    "configure_power_supply()"
   ]
  },
  {
   "cell_type": "code",
   "execution_count": null,
   "id": "752f32be",
   "metadata": {},
   "outputs": [],
   "source": [
    "## INITIALIZING SCOPE\n",
    "set_trigger(.1)\n",
    "pulser_v(3.5)\n",
    "set_vert_scale(4, .5)\n",
    "set_vert_scale(1, .5)\n",
    "\n",
    "\n",
    "## STANDARDIZE SCOPE OFFSET SO ITS IDENTICAL ACROSS RUNS\n",
    "scope.write('CH1:POS -4.00')\n",
    "scope.write('CH4:POS -4.00')\n",
    "\n",
    "\n",
    "## SET ACQUISITION MODE TO HIGH RESOLUTION\n",
    "scope.write(':ACQ:MODE HIRES')"
   ]
  },
  {
   "cell_type": "markdown",
   "id": "c0026ce1",
   "metadata": {},
   "source": [
    "### .hdf5 method: detector test"
   ]
  },
  {
   "cell_type": "code",
   "execution_count": 41,
   "id": "0219bdce",
   "metadata": {},
   "outputs": [
    {
     "name": "stdout",
     "output_type": "stream",
     "text": [
      "Scanning begins..\n"
     ]
    },
    {
     "ename": "KeyboardInterrupt",
     "evalue": "",
     "output_type": "error",
     "traceback": [
      "\u001b[0;31m---------------------------------------------------------------------------\u001b[0m",
      "\u001b[0;31mKeyboardInterrupt\u001b[0m                         Traceback (most recent call last)",
      "Cell \u001b[0;32mIn[41], line 1\u001b[0m\n\u001b[0;32m----> 1\u001b[0m \u001b[43mdata_scan_hdf5\u001b[49m\u001b[43m(\u001b[49m\u001b[43mmax_events\u001b[49m\u001b[43m \u001b[49m\u001b[38;5;241;43m=\u001b[39;49m\u001b[43m \u001b[49m\u001b[38;5;241;43m1000\u001b[39;49m\u001b[43m)\u001b[49m\n",
      "Cell \u001b[0;32mIn[40], line 24\u001b[0m, in \u001b[0;36mdata_scan_hdf5\u001b[0;34m(max_events)\u001b[0m\n\u001b[1;32m     21\u001b[0m \u001b[38;5;28;01mwhile\u001b[39;00m \u001b[38;5;28;01mTrue\u001b[39;00m:\n\u001b[1;32m     22\u001b[0m     \u001b[38;5;66;03m# Poll the oscilloscope's trigger status\u001b[39;00m\n\u001b[1;32m     23\u001b[0m     scope\u001b[38;5;241m.\u001b[39mwrite(\u001b[38;5;124m'\u001b[39m\u001b[38;5;124mTRIGger:STATE?\u001b[39m\u001b[38;5;124m'\u001b[39m)\n\u001b[0;32m---> 24\u001b[0m     trigger_status \u001b[38;5;241m=\u001b[39m \u001b[43mscope\u001b[49m\u001b[38;5;241;43m.\u001b[39;49m\u001b[43mread\u001b[49m\u001b[43m(\u001b[49m\u001b[43m)\u001b[49m\u001b[38;5;241m.\u001b[39mstrip()\n\u001b[1;32m     26\u001b[0m     \u001b[38;5;66;03m# Check if the trigger status indicates an event\u001b[39;00m\n\u001b[1;32m     27\u001b[0m     \u001b[38;5;28;01mif\u001b[39;00m trigger_status \u001b[38;5;241m==\u001b[39m \u001b[38;5;124m'\u001b[39m\u001b[38;5;124mTRIGGER\u001b[39m\u001b[38;5;124m'\u001b[39m:  \u001b[38;5;66;03m# This indicates an event occurred\u001b[39;00m\n\u001b[1;32m     28\u001b[0m         \u001b[38;5;66;03m# print(\"Event detected!\")\u001b[39;00m\n\u001b[1;32m     29\u001b[0m     \n\u001b[1;32m     30\u001b[0m         \u001b[38;5;66;03m# Get the waveform data\u001b[39;00m\n",
      "File \u001b[0;32m~/miniconda3/lib/python3.10/site-packages/pyvisa/resources/messagebased.py:485\u001b[0m, in \u001b[0;36mMessageBasedResource.read\u001b[0;34m(self, termination, encoding)\u001b[0m\n\u001b[1;32m    483\u001b[0m \u001b[38;5;28;01mif\u001b[39;00m termination \u001b[38;5;129;01mis\u001b[39;00m \u001b[38;5;28;01mNone\u001b[39;00m:\n\u001b[1;32m    484\u001b[0m     termination \u001b[38;5;241m=\u001b[39m \u001b[38;5;28mself\u001b[39m\u001b[38;5;241m.\u001b[39m_read_termination\n\u001b[0;32m--> 485\u001b[0m     message \u001b[38;5;241m=\u001b[39m \u001b[38;5;28;43mself\u001b[39;49m\u001b[38;5;241;43m.\u001b[39;49m\u001b[43m_read_raw\u001b[49m\u001b[43m(\u001b[49m\u001b[43m)\u001b[49m\u001b[38;5;241m.\u001b[39mdecode(enco)\n\u001b[1;32m    486\u001b[0m \u001b[38;5;28;01melse\u001b[39;00m:\n\u001b[1;32m    487\u001b[0m     \u001b[38;5;28;01mwith\u001b[39;00m \u001b[38;5;28mself\u001b[39m\u001b[38;5;241m.\u001b[39mread_termination_context(termination):\n",
      "File \u001b[0;32m~/miniconda3/lib/python3.10/site-packages/pyvisa/resources/messagebased.py:441\u001b[0m, in \u001b[0;36mMessageBasedResource._read_raw\u001b[0;34m(self, size)\u001b[0m\n\u001b[1;32m    434\u001b[0m     \u001b[38;5;28;01mwhile\u001b[39;00m status \u001b[38;5;241m==\u001b[39m loop_status:\n\u001b[1;32m    435\u001b[0m         logger\u001b[38;5;241m.\u001b[39mdebug(\n\u001b[1;32m    436\u001b[0m             \u001b[38;5;124m\"\u001b[39m\u001b[38;5;132;01m%s\u001b[39;00m\u001b[38;5;124m - reading \u001b[39m\u001b[38;5;132;01m%d\u001b[39;00m\u001b[38;5;124m bytes (last status \u001b[39m\u001b[38;5;132;01m%r\u001b[39;00m\u001b[38;5;124m)\u001b[39m\u001b[38;5;124m\"\u001b[39m,\n\u001b[1;32m    437\u001b[0m             \u001b[38;5;28mself\u001b[39m\u001b[38;5;241m.\u001b[39m_resource_name,\n\u001b[1;32m    438\u001b[0m             size,\n\u001b[1;32m    439\u001b[0m             status,\n\u001b[1;32m    440\u001b[0m         )\n\u001b[0;32m--> 441\u001b[0m         chunk, status \u001b[38;5;241m=\u001b[39m \u001b[38;5;28;43mself\u001b[39;49m\u001b[38;5;241;43m.\u001b[39;49m\u001b[43mvisalib\u001b[49m\u001b[38;5;241;43m.\u001b[39;49m\u001b[43mread\u001b[49m\u001b[43m(\u001b[49m\u001b[38;5;28;43mself\u001b[39;49m\u001b[38;5;241;43m.\u001b[39;49m\u001b[43msession\u001b[49m\u001b[43m,\u001b[49m\u001b[43m \u001b[49m\u001b[43msize\u001b[49m\u001b[43m)\u001b[49m\n\u001b[1;32m    442\u001b[0m         ret\u001b[38;5;241m.\u001b[39mextend(chunk)\n\u001b[1;32m    443\u001b[0m \u001b[38;5;28;01mexcept\u001b[39;00m errors\u001b[38;5;241m.\u001b[39mVisaIOError \u001b[38;5;28;01mas\u001b[39;00m e:\n",
      "File \u001b[0;32m~/miniconda3/lib/python3.10/site-packages/pyvisa_py/highlevel.py:513\u001b[0m, in \u001b[0;36mPyVisaLibrary.read\u001b[0;34m(self, session, count)\u001b[0m\n\u001b[1;32m    511\u001b[0m \u001b[38;5;66;03m# from the session handle, dispatch to the read method of the session object.\u001b[39;00m\n\u001b[1;32m    512\u001b[0m \u001b[38;5;28;01mtry\u001b[39;00m:\n\u001b[0;32m--> 513\u001b[0m     data, status_code \u001b[38;5;241m=\u001b[39m \u001b[38;5;28;43mself\u001b[39;49m\u001b[38;5;241;43m.\u001b[39;49m\u001b[43msessions\u001b[49m\u001b[43m[\u001b[49m\u001b[43msession\u001b[49m\u001b[43m]\u001b[49m\u001b[38;5;241;43m.\u001b[39;49m\u001b[43mread\u001b[49m\u001b[43m(\u001b[49m\u001b[43mcount\u001b[49m\u001b[43m)\u001b[49m\n\u001b[1;32m    514\u001b[0m \u001b[38;5;28;01mexcept\u001b[39;00m \u001b[38;5;167;01mKeyError\u001b[39;00m:\n\u001b[1;32m    515\u001b[0m     \u001b[38;5;28;01mreturn\u001b[39;00m (\n\u001b[1;32m    516\u001b[0m         \u001b[38;5;124mb\u001b[39m\u001b[38;5;124m\"\u001b[39m\u001b[38;5;124m\"\u001b[39m,\n\u001b[1;32m    517\u001b[0m         \u001b[38;5;28mself\u001b[39m\u001b[38;5;241m.\u001b[39mhandle_return_value(session, StatusCode\u001b[38;5;241m.\u001b[39merror_invalid_object),\n\u001b[1;32m    518\u001b[0m     )\n",
      "File \u001b[0;32m~/miniconda3/lib/python3.10/site-packages/pyvisa_py/tcpip.py:539\u001b[0m, in \u001b[0;36mTCPIPInstrVxi11.read\u001b[0;34m(self, count)\u001b[0m\n\u001b[1;32m    535\u001b[0m \u001b[38;5;28;01mwhile\u001b[39;00m reason \u001b[38;5;241m&\u001b[39m end_reason \u001b[38;5;241m==\u001b[39m \u001b[38;5;241m0\u001b[39m:\n\u001b[1;32m    536\u001b[0m     \u001b[38;5;66;03m# Decrease timeout so that the total timeout does not get larger\u001b[39;00m\n\u001b[1;32m    537\u001b[0m     \u001b[38;5;66;03m# than the specified timeout.\u001b[39;00m\n\u001b[1;32m    538\u001b[0m     timeout \u001b[38;5;241m=\u001b[39m \u001b[38;5;28mmax\u001b[39m(\u001b[38;5;241m0\u001b[39m, timeout \u001b[38;5;241m-\u001b[39m \u001b[38;5;28mint\u001b[39m((time\u001b[38;5;241m.\u001b[39mtime() \u001b[38;5;241m-\u001b[39m start_time) \u001b[38;5;241m*\u001b[39m \u001b[38;5;241m1000\u001b[39m))\n\u001b[0;32m--> 539\u001b[0m     error, reason, data \u001b[38;5;241m=\u001b[39m \u001b[43mread_fun\u001b[49m\u001b[43m(\u001b[49m\n\u001b[1;32m    540\u001b[0m \u001b[43m        \u001b[49m\u001b[38;5;28;43mself\u001b[39;49m\u001b[38;5;241;43m.\u001b[39;49m\u001b[43mlink\u001b[49m\u001b[43m,\u001b[49m\u001b[43m \u001b[49m\u001b[43mchunk_length\u001b[49m\u001b[43m,\u001b[49m\u001b[43m \u001b[49m\u001b[43mtimeout\u001b[49m\u001b[43m,\u001b[49m\u001b[43m \u001b[49m\u001b[38;5;28;43mself\u001b[39;49m\u001b[38;5;241;43m.\u001b[39;49m\u001b[43mlock_timeout\u001b[49m\u001b[43m,\u001b[49m\u001b[43m \u001b[49m\u001b[43mflags\u001b[49m\u001b[43m,\u001b[49m\u001b[43m \u001b[49m\u001b[43mterm_char\u001b[49m\n\u001b[1;32m    541\u001b[0m \u001b[43m    \u001b[49m\u001b[43m)\u001b[49m\n\u001b[1;32m    543\u001b[0m     \u001b[38;5;28;01mif\u001b[39;00m error \u001b[38;5;241m==\u001b[39m vxi11\u001b[38;5;241m.\u001b[39mErrorCodes\u001b[38;5;241m.\u001b[39mio_timeout:\n\u001b[1;32m    544\u001b[0m         \u001b[38;5;28;01mreturn\u001b[39;00m \u001b[38;5;28mbytes\u001b[39m(read_data), StatusCode\u001b[38;5;241m.\u001b[39merror_timeout\n",
      "File \u001b[0;32m~/miniconda3/lib/python3.10/site-packages/pyvisa_py/protocols/vxi11.py:236\u001b[0m, in \u001b[0;36mCoreClient.device_read\u001b[0;34m(self, link, request_size, io_timeout, lock_timeout, flags, term_char)\u001b[0m\n\u001b[1;32m    234\u001b[0m params \u001b[38;5;241m=\u001b[39m (link, request_size, io_timeout, lock_timeout, flags, term_char)\n\u001b[1;32m    235\u001b[0m \u001b[38;5;28;01mtry\u001b[39;00m:\n\u001b[0;32m--> 236\u001b[0m     \u001b[38;5;28;01mreturn\u001b[39;00m \u001b[38;5;28;43mself\u001b[39;49m\u001b[38;5;241;43m.\u001b[39;49m\u001b[43mmake_call\u001b[49m\u001b[43m(\u001b[49m\n\u001b[1;32m    237\u001b[0m \u001b[43m        \u001b[49m\u001b[43mDEVICE_READ\u001b[49m\u001b[43m,\u001b[49m\n\u001b[1;32m    238\u001b[0m \u001b[43m        \u001b[49m\u001b[43mparams\u001b[49m\u001b[43m,\u001b[49m\n\u001b[1;32m    239\u001b[0m \u001b[43m        \u001b[49m\u001b[38;5;28;43mself\u001b[39;49m\u001b[38;5;241;43m.\u001b[39;49m\u001b[43mpacker\u001b[49m\u001b[38;5;241;43m.\u001b[39;49m\u001b[43mpack_device_read_parms\u001b[49m\u001b[43m,\u001b[49m\n\u001b[1;32m    240\u001b[0m \u001b[43m        \u001b[49m\u001b[38;5;28;43mself\u001b[39;49m\u001b[38;5;241;43m.\u001b[39;49m\u001b[43munpacker\u001b[49m\u001b[38;5;241;43m.\u001b[39;49m\u001b[43munpack_device_read_resp\u001b[49m\u001b[43m,\u001b[49m\n\u001b[1;32m    241\u001b[0m \u001b[43m    \u001b[49m\u001b[43m)\u001b[49m\n\u001b[1;32m    242\u001b[0m \u001b[38;5;28;01mexcept\u001b[39;00m socket\u001b[38;5;241m.\u001b[39mtimeout \u001b[38;5;28;01mas\u001b[39;00m e:\n\u001b[1;32m    243\u001b[0m     \u001b[38;5;28;01mreturn\u001b[39;00m ErrorCodes\u001b[38;5;241m.\u001b[39mio_error, e\u001b[38;5;241m.\u001b[39margs[\u001b[38;5;241m0\u001b[39m], \u001b[38;5;124m\"\u001b[39m\u001b[38;5;124m\"\u001b[39m\n",
      "File \u001b[0;32m~/miniconda3/lib/python3.10/site-packages/pyvisa_py/protocols/rpc.py:480\u001b[0m, in \u001b[0;36mRawTCPClient.make_call\u001b[0;34m(self, proc, args, pack_func, unpack_func)\u001b[0m\n\u001b[1;32m    474\u001b[0m \u001b[38;5;66;03m# In case of a timeout because the instrument cannot answer, the\u001b[39;00m\n\u001b[1;32m    475\u001b[0m \u001b[38;5;66;03m# instrument should let use something went wrong. If we hit the hard\u001b[39;00m\n\u001b[1;32m    476\u001b[0m \u001b[38;5;66;03m# timeout of the rpc, it means something worse happened (cable\u001b[39;00m\n\u001b[1;32m    477\u001b[0m \u001b[38;5;66;03m# unplugged).\u001b[39;00m\n\u001b[1;32m    478\u001b[0m \u001b[38;5;28mself\u001b[39m\u001b[38;5;241m.\u001b[39mtimeout \u001b[38;5;241m+\u001b[39m\u001b[38;5;241m=\u001b[39m \u001b[38;5;241m1.0\u001b[39m\n\u001b[0;32m--> 480\u001b[0m \u001b[38;5;28;01mreturn\u001b[39;00m \u001b[38;5;28;43msuper\u001b[39;49m\u001b[43m(\u001b[49m\u001b[43mRawTCPClient\u001b[49m\u001b[43m,\u001b[49m\u001b[43m \u001b[49m\u001b[38;5;28;43mself\u001b[39;49m\u001b[43m)\u001b[49m\u001b[38;5;241;43m.\u001b[39;49m\u001b[43mmake_call\u001b[49m\u001b[43m(\u001b[49m\u001b[43mproc\u001b[49m\u001b[43m,\u001b[49m\u001b[43m \u001b[49m\u001b[43margs\u001b[49m\u001b[43m,\u001b[49m\u001b[43m \u001b[49m\u001b[43mpack_func\u001b[49m\u001b[43m,\u001b[49m\u001b[43m \u001b[49m\u001b[43munpack_func\u001b[49m\u001b[43m)\u001b[49m\n",
      "File \u001b[0;32m~/miniconda3/lib/python3.10/site-packages/pyvisa_py/protocols/rpc.py:235\u001b[0m, in \u001b[0;36mClient.make_call\u001b[0;34m(self, proc, args, pack_func, unpack_func)\u001b[0m\n\u001b[1;32m    233\u001b[0m \u001b[38;5;28;01mif\u001b[39;00m pack_func:\n\u001b[1;32m    234\u001b[0m     pack_func(args)\n\u001b[0;32m--> 235\u001b[0m \u001b[38;5;28;43mself\u001b[39;49m\u001b[38;5;241;43m.\u001b[39;49m\u001b[43mdo_call\u001b[49m\u001b[43m(\u001b[49m\u001b[43m)\u001b[49m\n\u001b[1;32m    236\u001b[0m \u001b[38;5;28;01mif\u001b[39;00m unpack_func:\n\u001b[1;32m    237\u001b[0m     result \u001b[38;5;241m=\u001b[39m unpack_func()\n",
      "File \u001b[0;32m~/miniconda3/lib/python3.10/site-packages/pyvisa_py/protocols/rpc.py:508\u001b[0m, in \u001b[0;36mRawTCPClient.do_call\u001b[0;34m(self)\u001b[0m\n\u001b[1;32m    505\u001b[0m     min_packages \u001b[38;5;241m=\u001b[39m \u001b[38;5;241m0\u001b[39m\n\u001b[1;32m    507\u001b[0m \u001b[38;5;28;01mwhile\u001b[39;00m \u001b[38;5;28;01mTrue\u001b[39;00m:\n\u001b[0;32m--> 508\u001b[0m     reply \u001b[38;5;241m=\u001b[39m \u001b[43m_recvrecord\u001b[49m\u001b[43m(\u001b[49m\u001b[38;5;28;43mself\u001b[39;49m\u001b[38;5;241;43m.\u001b[39;49m\u001b[43msock\u001b[49m\u001b[43m,\u001b[49m\u001b[43m \u001b[49m\u001b[38;5;28;43mself\u001b[39;49m\u001b[38;5;241;43m.\u001b[39;49m\u001b[43mtimeout\u001b[49m\u001b[43m,\u001b[49m\u001b[43m \u001b[49m\u001b[43mmin_packages\u001b[49m\u001b[38;5;241;43m=\u001b[39;49m\u001b[43mmin_packages\u001b[49m\u001b[43m)\u001b[49m\n\u001b[1;32m    509\u001b[0m     u \u001b[38;5;241m=\u001b[39m \u001b[38;5;28mself\u001b[39m\u001b[38;5;241m.\u001b[39munpacker\n\u001b[1;32m    510\u001b[0m     u\u001b[38;5;241m.\u001b[39mreset(reply)\n",
      "File \u001b[0;32m~/miniconda3/lib/python3.10/site-packages/pyvisa_py/protocols/rpc.py:353\u001b[0m, in \u001b[0;36m_recvrecord\u001b[0;34m(sock, timeout, read_fun, min_packages)\u001b[0m\n\u001b[1;32m    349\u001b[0m \u001b[38;5;28;01mwhile\u001b[39;00m \u001b[38;5;28;01mTrue\u001b[39;00m:\n\u001b[1;32m    350\u001b[0m     \u001b[38;5;66;03m# if more data for the current fragment is needed, use select\u001b[39;00m\n\u001b[1;32m    351\u001b[0m     \u001b[38;5;66;03m# to wait for read ready, max `select_timeout` seconds\u001b[39;00m\n\u001b[1;32m    352\u001b[0m     \u001b[38;5;28;01mif\u001b[39;00m \u001b[38;5;28mlen\u001b[39m(buffer) \u001b[38;5;241m<\u001b[39m exp_length:\n\u001b[0;32m--> 353\u001b[0m         r, w, x \u001b[38;5;241m=\u001b[39m \u001b[43mselect\u001b[49m\u001b[38;5;241;43m.\u001b[39;49m\u001b[43mselect\u001b[49m\u001b[43m(\u001b[49m\u001b[43m[\u001b[49m\u001b[43msock\u001b[49m\u001b[43m]\u001b[49m\u001b[43m,\u001b[49m\u001b[43m \u001b[49m\u001b[43m[\u001b[49m\u001b[43m]\u001b[49m\u001b[43m,\u001b[49m\u001b[43m \u001b[49m\u001b[43m[\u001b[49m\u001b[43m]\u001b[49m\u001b[43m,\u001b[49m\u001b[43m \u001b[49m\u001b[43mselect_timeout\u001b[49m\u001b[43m)\u001b[49m\n\u001b[1;32m    354\u001b[0m         read_data \u001b[38;5;241m=\u001b[39m \u001b[38;5;124mb\u001b[39m\u001b[38;5;124m\"\u001b[39m\u001b[38;5;124m\"\u001b[39m\n\u001b[1;32m    355\u001b[0m         \u001b[38;5;28;01mif\u001b[39;00m sock \u001b[38;5;129;01min\u001b[39;00m r:\n",
      "\u001b[0;31mKeyboardInterrupt\u001b[0m: "
     ]
    }
   ],
   "source": [
    "data_scan_hdf5(max_events = 1000)"
   ]
  },
  {
   "cell_type": "code",
   "execution_count": 46,
   "id": "d5e927ef",
   "metadata": {},
   "outputs": [],
   "source": [
    "voltage_wvf  = []\n",
    "counter = 3\n",
    "\n",
    "for i in range(100):\n",
    "     voltage_wvf.append(np.random.rand(10))\n",
    "\n",
    "hdf_file = h5py.File('text.h5', 'a')   \n",
    "# hdf_file.require_group('signal')\n",
    "hdf_file['signal'].create_dataset(f\"wvf{counter}\", data=voltage_wvf, compression=\"gzip\")\n",
    "counter += 1\n",
    "# save time data to the HDF5 file -> only ONCE!\n",
    "#  Create a group for the ASIC data\n",
    "#  hdf_file.create_group(group_name)\n",
    "\n",
    "# print(f\"Saving event {count-100} - {count} to HDF5 file.\")  \n",
    "# # Save waveform to HDF5 file\n",
    "# write_waveform_to_hdf5(hdf_file, group_name, time_wave, voltage_wave, count)\n",
    "        "
   ]
  },
  {
   "cell_type": "code",
   "execution_count": 4,
   "id": "70ee2a08",
   "metadata": {},
   "outputs": [],
   "source": []
  },
  {
   "cell_type": "code",
   "execution_count": 47,
   "id": "753dae40",
   "metadata": {},
   "outputs": [
    {
     "name": "stdout",
     "output_type": "stream",
     "text": [
      "signal\n",
      "signal/wvf1\n",
      "signal/wvf2\n",
      "signal/wvf3\n",
      "signal/wvf{counter}\n"
     ]
    }
   ],
   "source": [
    "def print_hdf5_structure(file_name):\n",
    "    def print_attrs(name, obj):\n",
    "        print(name)\n",
    "        for key, val in obj.attrs.items():\n",
    "            print(f\"    {key}: {val}\")\n",
    "\n",
    "    with h5py.File(file_name, 'r') as hdf_file:\n",
    "        hdf_file.visititems(print_attrs)\n",
    "print_hdf5_structure('text.h5')"
   ]
  },
  {
   "cell_type": "code",
   "execution_count": null,
   "id": "9357c3b7",
   "metadata": {},
   "outputs": [],
   "source": []
  }
 ],
 "metadata": {
  "kernelspec": {
   "display_name": "Python 3 (ipykernel)",
   "language": "python",
   "name": "python3"
  },
  "language_info": {
   "codemirror_mode": {
    "name": "ipython",
    "version": 3
   },
   "file_extension": ".py",
   "mimetype": "text/x-python",
   "name": "python",
   "nbconvert_exporter": "python",
   "pygments_lexer": "ipython3",
   "version": "3.12.4"
  }
 },
 "nbformat": 4,
 "nbformat_minor": 5
}
