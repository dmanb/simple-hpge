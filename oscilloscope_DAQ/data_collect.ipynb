{
 "cells": [
  {
   "cell_type": "code",
   "execution_count": 1,
   "metadata": {},
   "outputs": [],
   "source": [
    "#### INCLUDING AUTOMATION FUNCTIONS AND PACKAGES NECESSARY FOR DATA COLLECTION ####\n",
    "import automation_funcs as af\n",
    "import sys, os\n",
    "import pyvisa\n",
    "import csv\n",
    "import numpy as np\n",
    "import matplotlib.pyplot as plt\n",
    "import pandas as pd\n",
    "import time\n",
    "import struct\n",
    "import os\n",
    "import datetime"
   ]
  },
  {
   "cell_type": "code",
   "execution_count": 8,
   "metadata": {},
   "outputs": [
    {
     "name": "stdout",
     "output_type": "stream",
     "text": [
      "Connected to power supply: Keysight Technologies,E36313A,MY58491796,2.0.1-1.0.2-1.06\n"
     ]
    }
   ],
   "source": [
    "rm = pyvisa.ResourceManager('@py')\n",
    "\n",
    "\n",
    "## assign oscilloscope\n",
    "scope = rm.open_resource('TCPIP0::169.254.7.109')\n",
    "\n",
    "\n",
    "## assign pulse generator \n",
    "pulser = rm.open_resource('TCPIP0::169.254.7.110')\n",
    "\n",
    "\n",
    "\n",
    "\n",
    " \n",
    "## power supply is finnicky sometimes\n",
    "ip_address = '169.254.7.111'\n",
    "resource_string = f'TCPIP0::{ip_address}::5025::SOCKET'\n",
    "\n",
    "try:\n",
    "    # Open the resource with the specified IP address and port\n",
    "    supply = rm.open_resource(resource_string)\n",
    "\n",
    "    # Set the read and write termination characters\n",
    "    supply.write_termination = '\\n'\n",
    "    supply.read_termination = '\\n'\n",
    "    \n",
    "    # Set the timeout to 5000 ms (5 seconds)\n",
    "    supply.timeout = 5000\n",
    "\n",
    "    # Query the device for its ID\n",
    "    idn = supply.query(\"*IDN?\")\n",
    "    print(\"Connected to power supply:\", idn)\n",
    "except pyvisa.VisaIOError as e:\n",
    "    print(\"Error connecting to the power supply:\", e)\n"
   ]
  },
  {
   "cell_type": "code",
   "execution_count": 9,
   "metadata": {},
   "outputs": [
    {
     "ename": "NameError",
     "evalue": "name 'scope' is not defined",
     "output_type": "error",
     "traceback": [
      "\u001b[0;31m---------------------------------------------------------------------------\u001b[0m",
      "\u001b[0;31mNameError\u001b[0m                                 Traceback (most recent call last)",
      "Cell \u001b[0;32mIn[9], line 1\u001b[0m\n\u001b[0;32m----> 1\u001b[0m \u001b[43maf\u001b[49m\u001b[38;5;241;43m.\u001b[39;49m\u001b[43minitialize_scope_and_pulser\u001b[49m\u001b[43m(\u001b[49m\u001b[43m)\u001b[49m\n\u001b[1;32m      2\u001b[0m af\u001b[38;5;241m.\u001b[39mconfigure_power_supply()\n",
      "File \u001b[0;32m~/LBL_ASIC/simple-hpge/oscilloscope_DAQ/automation_funcs.py:307\u001b[0m, in \u001b[0;36minitialize_scope_and_pulser\u001b[0;34m()\u001b[0m\n\u001b[1;32m    306\u001b[0m \u001b[38;5;28;01mdef\u001b[39;00m \u001b[38;5;21minitialize_scope_and_pulser\u001b[39m():\n\u001b[0;32m--> 307\u001b[0m     \u001b[43mset_trigger\u001b[49m\u001b[43m(\u001b[49m\u001b[38;5;241;43m.015\u001b[39;49m\u001b[43m)\u001b[49m\n\u001b[1;32m    309\u001b[0m     \u001b[38;5;66;03m## pulser parameters\u001b[39;00m\n\u001b[1;32m    310\u001b[0m     rise_time \u001b[38;5;241m=\u001b[39m \u001b[38;5;241m10e-9\u001b[39m \n",
      "File \u001b[0;32m~/LBL_ASIC/simple-hpge/oscilloscope_DAQ/automation_funcs.py:76\u001b[0m, in \u001b[0;36mset_trigger\u001b[0;34m(trigger_level)\u001b[0m\n\u001b[1;32m     74\u001b[0m \u001b[38;5;28;01mdef\u001b[39;00m \u001b[38;5;21mset_trigger\u001b[39m(trigger_level):\n\u001b[1;32m     75\u001b[0m     \u001b[38;5;66;03m# Construct the SCPI command to set the trigger source\u001b[39;00m\n\u001b[0;32m---> 76\u001b[0m     \u001b[43mscope\u001b[49m\u001b[38;5;241m.\u001b[39mwrite(\u001b[38;5;124m'\u001b[39m\u001b[38;5;124mTRIGger:A:EDGE:SOURce CH4\u001b[39m\u001b[38;5;124m'\u001b[39m) \u001b[38;5;66;03m## makes sure the trigger is set to channel 4\u001b[39;00m\n\u001b[1;32m     78\u001b[0m     \u001b[38;5;66;03m# Construct the SCPI command to set the trigger level\u001b[39;00m\n\u001b[1;32m     79\u001b[0m     scope\u001b[38;5;241m.\u001b[39mwrite(\u001b[38;5;124mf\u001b[39m\u001b[38;5;124m'\u001b[39m\u001b[38;5;124mTRIGger:A:LEVel:CH4 \u001b[39m\u001b[38;5;132;01m{\u001b[39;00mtrigger_level\u001b[38;5;132;01m}\u001b[39;00m\u001b[38;5;124m'\u001b[39m)\n",
      "\u001b[0;31mNameError\u001b[0m: name 'scope' is not defined"
     ]
    }
   ],
   "source": [
    "af.initialize_scope_and_pulser()\n",
    "af.configure_power_supply()"
   ]
  },
  {
   "cell_type": "code",
   "execution_count": 10,
   "metadata": {},
   "outputs": [
    {
     "ename": "NameError",
     "evalue": "name 'pulser' is not defined",
     "output_type": "error",
     "traceback": [
      "\u001b[0;31m---------------------------------------------------------------------------\u001b[0m",
      "\u001b[0;31mNameError\u001b[0m                                 Traceback (most recent call last)",
      "Cell \u001b[0;32mIn[10], line 1\u001b[0m\n\u001b[0;32m----> 1\u001b[0m \u001b[43maf\u001b[49m\u001b[38;5;241;43m.\u001b[39;49m\u001b[43mpulser_v\u001b[49m\u001b[43m(\u001b[49m\u001b[38;5;241;43m2\u001b[39;49m\u001b[43m)\u001b[49m\n",
      "File \u001b[0;32m~/LBL_ASIC/simple-hpge/oscilloscope_DAQ/automation_funcs.py:49\u001b[0m, in \u001b[0;36mpulser_v\u001b[0;34m(voltage)\u001b[0m\n\u001b[1;32m     48\u001b[0m \u001b[38;5;28;01mdef\u001b[39;00m \u001b[38;5;21mpulser_v\u001b[39m(voltage): \u001b[38;5;66;03m## parameter in units of volts\u001b[39;00m\n\u001b[0;32m---> 49\u001b[0m     \u001b[38;5;28;01mreturn\u001b[39;00m \u001b[43mpulser\u001b[49m\u001b[38;5;241m.\u001b[39mwrite(\u001b[38;5;124mf\u001b[39m\u001b[38;5;124m'\u001b[39m\u001b[38;5;124mC1:BSWV AMP, \u001b[39m\u001b[38;5;132;01m{\u001b[39;00mvoltage\u001b[38;5;132;01m}\u001b[39;00m\u001b[38;5;124m'\u001b[39m)\n",
      "\u001b[0;31mNameError\u001b[0m: name 'pulser' is not defined"
     ]
    }
   ],
   "source": [
    "af.pulser_v(2)"
   ]
  },
  {
   "cell_type": "code",
   "execution_count": 9,
   "metadata": {},
   "outputs": [],
   "source": [
    "voltage_array = [4.5, 4.4, 4.3, 4.2, 4.1, 4.0, \n",
    "                 3.9, 3.8, 3.7, 3.6, 3.5, 3.4, 3.3, 3.2, 3.1, 3.0, \n",
    "                 2.9, 2.8, 2.7, 2.6, 2.5, 2.4, 2.3, 2.2, 2.1, 2.0, \n",
    "                 1.9, 1.8, 1.7, 1.6, 1.5, 1.4, 1.3, 1.2, 1.1, 1.0, \n",
    "                 0.9, 0.8, 0.7, 0.6, 0.5, 0.4, 0.3, 0.2, 0.1,\n",
    "                 .09, .08, .07, .06, .05, .04, .03, .02, .017, .013, .01]"
   ]
  },
  {
   "cell_type": "code",
   "execution_count": 12,
   "metadata": {},
   "outputs": [
    {
     "ename": "KeyboardInterrupt",
     "evalue": "",
     "output_type": "error",
     "traceback": [
      "\u001b[0;31m---------------------------------------------------------------------------\u001b[0m",
      "\u001b[0;31mKeyboardInterrupt\u001b[0m                         Traceback (most recent call last)",
      "Cell \u001b[0;32mIn[12], line 1\u001b[0m\n\u001b[0;32m----> 1\u001b[0m \u001b[43maf\u001b[49m\u001b[38;5;241;43m.\u001b[39;49m\u001b[43mcollect_data\u001b[49m\u001b[43m(\u001b[49m\u001b[43mvoltage_array\u001b[49m\u001b[43m,\u001b[49m\u001b[43m \u001b[49m\u001b[43mnum_runs\u001b[49m\u001b[43m \u001b[49m\u001b[38;5;241;43m=\u001b[39;49m\u001b[43m \u001b[49m\u001b[38;5;241;43m1000\u001b[39;49m\u001b[43m,\u001b[49m\u001b[43m \u001b[49m\u001b[43mfolder_title\u001b[49m\u001b[43m \u001b[49m\u001b[38;5;241;43m=\u001b[39;49m\u001b[43m \u001b[49m\u001b[38;5;124;43m'\u001b[39;49m\u001b[38;5;124;43mASIC_data_07312024\u001b[39;49m\u001b[38;5;124;43m'\u001b[39;49m\u001b[43m)\u001b[49m\n",
      "File \u001b[0;32m~/LBL_ASIC/simple-hpge/oscilloscope_DAQ/automation_funcs.py:294\u001b[0m, in \u001b[0;36mcollect_data\u001b[0;34m(voltage_array, num_runs, folder_title, base_directory)\u001b[0m\n\u001b[1;32m    283\u001b[0m subfolder_path = create_folder(base_dir = folder_path, subfolder = subfolder_name)\n\u001b[1;32m    285\u001b[0m counter = 0      ## to save multiple files at same voltage\n\u001b[1;32m    286\u001b[0m # pulser_v(volt)   ## sets the voltage on the pulser\n\u001b[1;32m    287\u001b[0m # time.sleep(1)    ## adds delay for waveform to stabilize before data collection\n\u001b[1;32m    288\u001b[0m \n\u001b[1;32m    289\u001b[0m \n\u001b[1;32m    290\u001b[0m # asic_amplitude = get_measurement(3) ## gets ASIC max amplitude so we can adjust scaling\n\u001b[1;32m    291\u001b[0m \n\u001b[1;32m    292\u001b[0m # adjust_y_divisions(asic_amplitude)  ## adjusts y scaling for max resolution using asic amplitude\n\u001b[1;32m    293\u001b[0m \n\u001b[0;32m--> 294\u001b[0m ## collects n waveforms at each voltage\n\u001b[1;32m    295\u001b[0m for n in range(num_runs):\n\u001b[1;32m    296\u001b[0m     time.sleep(.01)\n",
      "\u001b[0;31mKeyboardInterrupt\u001b[0m: "
     ]
    }
   ],
   "source": [
    "af.collect_data(voltage_array, num_runs = 1000, folder_title = 'ASIC_data_07312024')"
   ]
  },
  {
   "cell_type": "code",
   "execution_count": 29,
   "metadata": {},
   "outputs": [],
   "source": [
    "## USE THIS TO UPLOAD DATA TO GOOGLE DRIVE, MAKE SURE YOU ARE IN DIRECTORY OF THE DATA:\n",
    "## cp -r * /Users/ilvuoto/Library/CloudStorage/GoogleDrive-dvbowen@lbl.gov/My\\ Drive/ASIC_data_drive"
   ]
  }
 ],
 "metadata": {
  "kernelspec": {
   "display_name": "base",
   "language": "python",
   "name": "python3"
  },
  "language_info": {
   "codemirror_mode": {
    "name": "ipython",
    "version": 3
   },
   "file_extension": ".py",
   "mimetype": "text/x-python",
   "name": "python",
   "nbconvert_exporter": "python",
   "pygments_lexer": "ipython3",
   "version": "3.10.11"
  }
 },
 "nbformat": 4,
 "nbformat_minor": 2
}
